{
 "cells": [
  {
   "cell_type": "code",
   "execution_count": 9,
   "metadata": {},
   "outputs": [
    {
     "data": {
      "text/html": [
       "<div>\n",
       "<style scoped>\n",
       "    .dataframe tbody tr th:only-of-type {\n",
       "        vertical-align: middle;\n",
       "    }\n",
       "\n",
       "    .dataframe tbody tr th {\n",
       "        vertical-align: top;\n",
       "    }\n",
       "\n",
       "    .dataframe thead th {\n",
       "        text-align: right;\n",
       "    }\n",
       "</style>\n",
       "<table border=\"1\" class=\"dataframe\">\n",
       "  <thead>\n",
       "    <tr style=\"text-align: right;\">\n",
       "      <th></th>\n",
       "      <th>gender</th>\n",
       "      <th>age</th>\n",
       "      <th>education</th>\n",
       "      <th>x1</th>\n",
       "      <th>x2</th>\n",
       "      <th>x3</th>\n",
       "    </tr>\n",
       "  </thead>\n",
       "  <tbody>\n",
       "    <tr>\n",
       "      <th>0</th>\n",
       "      <td>2</td>\n",
       "      <td>23</td>\n",
       "      <td>3</td>\n",
       "      <td>1</td>\n",
       "      <td>0</td>\n",
       "      <td>0</td>\n",
       "    </tr>\n",
       "    <tr>\n",
       "      <th>1</th>\n",
       "      <td>2</td>\n",
       "      <td>23</td>\n",
       "      <td>3</td>\n",
       "      <td>1</td>\n",
       "      <td>0</td>\n",
       "      <td>0</td>\n",
       "    </tr>\n",
       "    <tr>\n",
       "      <th>2</th>\n",
       "      <td>1</td>\n",
       "      <td>18</td>\n",
       "      <td>2</td>\n",
       "      <td>0</td>\n",
       "      <td>0</td>\n",
       "      <td>0</td>\n",
       "    </tr>\n",
       "    <tr>\n",
       "      <th>3</th>\n",
       "      <td>2</td>\n",
       "      <td>18</td>\n",
       "      <td>2</td>\n",
       "      <td>1</td>\n",
       "      <td>0</td>\n",
       "      <td>0</td>\n",
       "    </tr>\n",
       "    <tr>\n",
       "      <th>4</th>\n",
       "      <td>2</td>\n",
       "      <td>19</td>\n",
       "      <td>2</td>\n",
       "      <td>0</td>\n",
       "      <td>0</td>\n",
       "      <td>0</td>\n",
       "    </tr>\n",
       "  </tbody>\n",
       "</table>\n",
       "</div>"
      ],
      "text/plain": [
       "   gender  age  education  x1  x2  x3\n",
       "0       2   23          3   1   0   0\n",
       "1       2   23          3   1   0   0\n",
       "2       1   18          2   0   0   0\n",
       "3       2   18          2   1   0   0\n",
       "4       2   19          2   0   0   0"
      ]
     },
     "execution_count": 9,
     "metadata": {},
     "output_type": "execute_result"
    }
   ],
   "source": [
    "import pandas as pd\n",
    "#from sklearn.neighbors import KNeighborsRegressor\n",
    "#from sklearn.linear_model import LinearRegression, LogisticRegression\n",
    "#from sklearn.svm import SVR\n",
    "#from sklearn.ensemble import RandomForestRegressor\n",
    "#from sklearn.metrics import r2_score\n",
    "#from sklearn.cross_validation import train_test_split\n",
    "import matplotlib.pyplot as plt\n",
    "import pylab\n",
    "\n",
    "data = pd.read_csv('D:\\\\normalized db.csv', ';')\n",
    "data.head()"
   ]
  },
  {
   "cell_type": "code",
   "execution_count": 10,
   "metadata": {},
   "outputs": [],
   "source": [
    "#print (data.corr())\n",
    "df=data.loc[data['age']==18]\n",
    "#plt.scatter(data['age'], data['x1'])\n",
    "#plt.hist(data['age'])\n",
    "#plt.hist(data['education'])\n",
    "#plt.hist(data['gender'])\n",
    "#plt.show()\n",
    "#print (data.describe())\n",
    "#data['age'].plot()\n",
    "f = {'gender':['count']}\n",
    "\n",
    "#data.groupby('age').agg(f)\n",
    "#print (data.groupby('age').agg(count()))\n",
    "#print (14/7)\n",
    "#print (data)"
   ]
  },
  {
   "cell_type": "code",
   "execution_count": 11,
   "metadata": {},
   "outputs": [
    {
     "name": "stdout",
     "output_type": "stream",
     "text": [
      "       gender   age  education         x1         x2         x3\n",
      "count    28.0  28.0       28.0  28.000000  28.000000  28.000000\n",
      "mean      1.0  18.0        3.0   0.107143   0.500000   0.250000\n",
      "std       0.0   0.0        0.0   0.314970   0.509175   0.440959\n",
      "min       1.0  18.0        3.0   0.000000   0.000000   0.000000\n",
      "25%       1.0  18.0        3.0   0.000000   0.000000   0.000000\n",
      "50%       1.0  18.0        3.0   0.000000   0.500000   0.000000\n",
      "75%       1.0  18.0        3.0   0.000000   1.000000   0.250000\n",
      "max       1.0  18.0        3.0   1.000000   1.000000   1.000000\n",
      "       gender   age  education         x1         x2         x3\n",
      "count    54.0  54.0       54.0  54.000000  54.000000  54.000000\n",
      "mean      2.0  18.0        3.0   0.351852   0.425926   0.259259\n",
      "std       0.0   0.0        0.0   0.482032   0.499126   0.442343\n",
      "min       2.0  18.0        3.0   0.000000   0.000000   0.000000\n",
      "25%       2.0  18.0        3.0   0.000000   0.000000   0.000000\n",
      "50%       2.0  18.0        3.0   0.000000   0.000000   0.000000\n",
      "75%       2.0  18.0        3.0   1.000000   1.000000   0.750000\n",
      "max       2.0  18.0        3.0   1.000000   1.000000   1.000000\n",
      "             gender       age  education        x1        x2        x3\n",
      "gender     1.000000  0.116073   0.118249  0.184874 -0.022896 -0.017027\n",
      "age        0.116073  1.000000   0.735391  0.116433 -0.021147 -0.019799\n",
      "education  0.118249  0.735391   1.000000  0.152914 -0.005896 -0.098808\n",
      "x1         0.184874  0.116433   0.152914  1.000000 -0.171754 -0.409146\n",
      "x2        -0.022896 -0.021147  -0.005896 -0.171754  1.000000 -0.280708\n",
      "x3        -0.017027 -0.019799  -0.098808 -0.409146 -0.280708  1.000000\n",
      "              0              1              2             3             4  \\\n",
      "0  0.000000e+00   6.213473e-06   4.138244e-06  4.631345e-13  3.742651e-01   \n",
      "1  6.213473e-06   0.000000e+00  8.586254e-257  5.811767e-06  4.118712e-01   \n",
      "2  4.138244e-06  8.586254e-257   0.000000e+00  2.397259e-09  8.190362e-01   \n",
      "3  4.631345e-13   5.811767e-06   2.397259e-09  0.000000e+00  1.892007e-11   \n",
      "4  3.742651e-01   4.118712e-01   8.190362e-01  1.892007e-11  0.000000e+00   \n",
      "5  5.088111e-01   4.423141e-01   1.214274e-04  6.139481e-62  1.049531e-28   \n",
      "\n",
      "              5  \n",
      "0  5.088111e-01  \n",
      "1  4.423141e-01  \n",
      "2  1.214274e-04  \n",
      "3  6.139481e-62  \n",
      "4  1.049531e-28  \n",
      "5  0.000000e+00  \n"
     ]
    }
   ],
   "source": [
    "import numpy as np\n",
    "from scipy import stats\n",
    "data['age'].describe()\n",
    "#df=data.loc[data['education']==2]\n",
    "df=data.loc[data['age']==18]\n",
    "\n",
    "df1=data.loc[data['education']==3]\n",
    "#df1=data\n",
    "df5=df1.loc[df1['age']==18]\n",
    "#print (df5.head())\n",
    "df3=df5.loc[df5['gender']==2]\n",
    "df4=df5.loc[df5['gender']==1]\n",
    "print (df4.describe())\n",
    "print (df3.describe())\n",
    "#df=data.drop(['education', 'gender'], axis=1)\n",
    "#df.loc[df['age'] < 18, 'age'] = 0\n",
    "#df.loc[df['age'] > ([18, 19, 20, 21, 22]), 'age'] = 1\n",
    "#df.loc[df['age'] > 22 and df['age'] < 26, 'age'] = 2\n",
    "#df.loc[df['age'] > 26, 'age'] = 3\n",
    "#df1=data.loc[data['education']==2]\n",
    "#df1=data.loc[data['age'] == 14] \n",
    "#df['stage'] = pd.cut(df.age, bins=[14, 18, 22, 26,  np.inf], labels=[0, 1, 2, 3])\n",
    "#df1['age']=(pd.cut(df.age, bins=[14, 18, 22, 26, np.inf], labels=[0, 1, 2, 3], right=True))\n",
    "#df1['ge']=pd.cut(df.age, bins=[14, 18, 22, 26, np.inf], labels=False, right=True) + 1\n",
    "#df1['edu']=(pd.cut(df.education, bins=[1, 2, np.inf], labels=False, right=True)  +1 )\n",
    "#df.loc[df['education'] == 1, 'edu'] = 0\n",
    "#df.loc[df['education'] == 3, 'edu'] = 1\n",
    "#df.loc[df['education'] == 2, 'edu'] = 1\n",
    "#df1.corr()\n",
    "#df1.head()\n",
    "#print (df)\n",
    "#print (df1)\n",
    "#f1=df\n",
    "#print (data.corr())\n",
    "df=data\n",
    "mat = df.values.T\n",
    "K = len(df.columns)\n",
    "correl = np.empty((K,K), dtype=float)\n",
    "p_vals = np.empty((K,K), dtype=float)\n",
    "\n",
    "for i, ac in enumerate(mat):\n",
    "    for j, bc in enumerate(mat):\n",
    "        if i > j:\n",
    "            continue\n",
    "        else:\n",
    "            corr = stats.pearsonr(ac, bc)\n",
    "            #corr = stats.kendalltau(ac, bc)\n",
    "\n",
    "        correl[i,j] = corr[0]\n",
    "        correl[j,i] = corr[0]\n",
    "        p_vals[i,j] = corr[1]\n",
    "        p_vals[j,i] = corr[1]\n",
    "\n",
    "df_p = pd.DataFrame(p_vals)\n",
    "df_corr = pd.DataFrame(correl)\n",
    "#df.describe()\n",
    "print (df.corr())\n",
    "print (df_p)\n",
    "#(df.corr()).to_csv'D:\\\\df_corr.csv', ';')\n",
    "write=df.corr()\n"
   ]
  },
  {
   "cell_type": "code",
   "execution_count": 74,
   "metadata": {},
   "outputs": [
    {
     "name": "stdout",
     "output_type": "stream",
     "text": [
      "14 возраст\n",
      "           gender  education  x1  x2  x3\n",
      "gender        NaN        NaN NaN NaN NaN\n",
      "education     NaN        NaN NaN NaN NaN\n",
      "x1            NaN        NaN NaN NaN NaN\n",
      "x2            NaN        NaN NaN NaN NaN\n",
      "x3            NaN        NaN NaN NaN NaN\n",
      "    0   1   2   3   4\n",
      "0 NaN NaN NaN NaN NaN\n",
      "1 NaN NaN NaN NaN NaN\n",
      "2 NaN NaN NaN NaN NaN\n",
      "3 NaN NaN NaN NaN NaN\n",
      "4 NaN NaN NaN NaN NaN\n",
      "15 возраст\n",
      "           gender  education  x1  x2  x3\n",
      "gender        NaN        NaN NaN NaN NaN\n",
      "education     NaN        NaN NaN NaN NaN\n",
      "x1            NaN        NaN NaN NaN NaN\n",
      "x2            NaN        NaN NaN NaN NaN\n",
      "x3            NaN        NaN NaN NaN NaN\n",
      "    0   1   2   3   4\n",
      "0 NaN NaN NaN NaN NaN\n",
      "1 NaN NaN NaN NaN NaN\n",
      "2 NaN NaN NaN NaN NaN\n",
      "3 NaN NaN NaN NaN NaN\n",
      "4 NaN NaN NaN NaN NaN\n",
      "16 возраст\n",
      "             gender  education        x1        x2        x3\n",
      "gender     1.000000        NaN  0.050965 -0.492063  0.422890\n",
      "education       NaN        NaN       NaN       NaN       NaN\n",
      "x1         0.050965        NaN  1.000000  0.220847 -0.522233\n",
      "x2        -0.492063        NaN  0.220847  1.000000 -0.683130\n",
      "x3         0.422890        NaN -0.522233 -0.683130  1.000000\n",
      "          0    1         2         3         4\n",
      "0  0.000000  1.0  0.851313  0.052856  0.102683\n",
      "1  1.000000  1.0  1.000000  1.000000  1.000000\n",
      "2  0.851313  1.0  0.000000  0.411104  0.037972\n",
      "3  0.052856  1.0  0.411104  0.000000  0.003535\n",
      "4  0.102683  1.0  0.037972  0.003535  0.000000\n",
      "17 возраст\n",
      "             gender  education        x1        x2        x3\n",
      "gender     1.000000        NaN -0.113228 -0.455597  0.211921\n",
      "education       NaN        NaN       NaN       NaN       NaN\n",
      "x1        -0.113228        NaN  1.000000 -0.023125 -0.330289\n",
      "x2        -0.455597        NaN -0.023125  1.000000 -0.420084\n",
      "x3         0.211921        NaN -0.330289 -0.420084  1.000000\n",
      "          0    1         2         3         4\n",
      "0  0.000000  1.0  0.566185  0.014835  0.278981\n",
      "1  1.000000  1.0  1.000000  1.000000  1.000000\n",
      "2  0.566185  1.0  0.000000  0.907017  0.086053\n",
      "3  0.014835  1.0  0.907017  0.000000  0.026038\n",
      "4  0.278981  1.0  0.086053  0.026038  0.000000\n",
      "18 возраст\n",
      "             gender  education        x1        x2        x3\n",
      "gender     1.000000        NaN  0.261902 -0.070589  0.010060\n",
      "education       NaN        NaN       NaN       NaN       NaN\n",
      "x1         0.261902        NaN  1.000000 -0.272513 -0.355288\n",
      "x2        -0.070589        NaN -0.272513  1.000000 -0.251295\n",
      "x3         0.010060        NaN -0.355288 -0.251295  1.000000\n",
      "          0    1         2         3         4\n",
      "0  0.000000  1.0  0.017461  0.528576  0.928528\n",
      "1  1.000000  1.0  1.000000  1.000000  1.000000\n",
      "2  0.017461  1.0  0.000000  0.013253  0.001055\n",
      "3  0.528576  1.0  0.013253  0.000000  0.022767\n",
      "4  0.928528  1.0  0.001055  0.022767  0.000000\n",
      "19 возраст\n",
      "             gender  education        x1        x2        x3\n",
      "gender     1.000000        NaN  0.062856  0.057321 -0.161528\n",
      "education       NaN        NaN       NaN       NaN       NaN\n",
      "x1         0.062856        NaN  1.000000 -0.184230 -0.341882\n",
      "x2         0.057321        NaN -0.184230  1.000000 -0.242120\n",
      "x3        -0.161528        NaN -0.341882 -0.242120  1.000000\n",
      "          0    1         2         3         4\n",
      "0  0.000000  1.0  0.567670  0.602315  0.139708\n",
      "1  1.000000  1.0  1.000000  1.000000  1.000000\n",
      "2  0.567670  1.0  0.000000  0.091440  0.001363\n",
      "3  0.602315  1.0  0.091440  0.000000  0.025581\n",
      "4  0.139708  1.0  0.001363  0.025581  0.000000\n",
      "20 возраст\n",
      "             gender  education        x1        x2        x3\n",
      "gender     1.000000        NaN  0.146214 -0.127050  0.009689\n",
      "education       NaN        NaN       NaN       NaN       NaN\n",
      "x1         0.146214        NaN  1.000000 -0.403927 -0.469856\n",
      "x2        -0.127050        NaN -0.403927  1.000000 -0.162734\n",
      "x3         0.009689        NaN -0.469856 -0.162734  1.000000\n",
      "          0    1         2         3         4\n",
      "0  0.000000  1.0  0.204489  0.270857  0.933350\n",
      "1  1.000000  1.0  1.000000  1.000000  1.000000\n",
      "2  0.204489  1.0  0.000000  0.000269  0.000016\n",
      "3  0.270857  1.0  0.000269  0.000000  0.157339\n",
      "4  0.933350  1.0  0.000016  0.157339  0.000000\n",
      "21 возраст\n",
      "             gender  education        x1        x2        x3\n",
      "gender     1.000000        NaN  0.054115  0.085361 -0.055195\n",
      "education       NaN        NaN       NaN       NaN       NaN\n",
      "x1         0.054115        NaN  1.000000 -0.292230 -0.417915\n",
      "x2         0.085361        NaN -0.292230  1.000000 -0.085361\n",
      "x3        -0.055195        NaN -0.417915 -0.085361  1.000000\n",
      "          0    1         2         3         4\n",
      "0  0.000000  1.0  0.598580  0.405788  0.591290\n",
      "1  1.000000  1.0  1.000000  1.000000  1.000000\n",
      "2  0.598580  1.0  0.000000  0.003678  0.000021\n",
      "3  0.405788  1.0  0.003678  0.000000  0.405788\n",
      "4  0.591290  1.0  0.000021  0.405788  0.000000\n",
      "22 возраст\n",
      "             gender  education        x1        x2        x3\n",
      "gender     1.000000        NaN  0.075048 -0.180542  0.371575\n",
      "education       NaN        NaN       NaN       NaN       NaN\n",
      "x1         0.075048        NaN  1.000000  0.091549 -0.389518\n",
      "x2        -0.180542        NaN  0.091549  1.000000 -0.400225\n",
      "x3         0.371575        NaN -0.389518 -0.400225  1.000000\n",
      "          0    1         2         3         4\n",
      "0  0.000000  1.0  0.640973  0.258648  0.016757\n",
      "1  1.000000  1.0  1.000000  1.000000  1.000000\n",
      "2  0.640973  1.0  0.000000  0.569174  0.011826\n",
      "3  0.258648  1.0  0.569174  0.000000  0.009519\n",
      "4  0.016757  1.0  0.011826  0.009519  0.000000\n",
      "23 возраст\n",
      "             gender  education        x1        x2        x3\n",
      "gender     1.000000        NaN  0.002653  0.163543  0.041774\n",
      "education       NaN        NaN       NaN       NaN       NaN\n",
      "x1         0.002653        NaN  1.000000 -0.475761 -0.217226\n",
      "x2         0.163543        NaN -0.475761  1.000000  0.046829\n",
      "x3         0.041774        NaN -0.217226  0.046829  1.000000\n",
      "          0    1         2         3         4\n",
      "0  0.000000  1.0  0.986699  0.300725  0.792804\n",
      "1  1.000000  1.0  1.000000  1.000000  1.000000\n",
      "2  0.986699  1.0  0.000000  0.001450  0.167014\n",
      "3  0.300725  1.0  0.001450  0.000000  0.768383\n",
      "4  0.792804  1.0  0.167014  0.768383  0.000000\n",
      "24 возраст\n",
      "             gender  education        x1        x2        x3\n",
      "gender     1.000000        NaN  0.160538  0.114993 -0.105961\n",
      "education       NaN        NaN       NaN       NaN       NaN\n",
      "x1         0.160538        NaN  1.000000 -0.112777 -0.752618\n",
      "x2         0.114993        NaN -0.112777  1.000000  0.014712\n",
      "x3        -0.105961        NaN -0.752618  0.014712  1.000000\n",
      "          0    1         2         3         4\n",
      "0  0.000000  1.0  0.388290  0.537899  0.570496\n",
      "1  1.000000  1.0  1.000000  1.000000  1.000000\n",
      "2  0.388290  1.0  0.000000  0.545813  0.000001\n",
      "3  0.537899  1.0  0.545813  0.000000  0.937389\n",
      "4  0.570496  1.0  0.000001  0.937389  0.000000\n",
      "25 возраст\n",
      "             gender  education        x1        x2        x3\n",
      "gender     1.000000        NaN  0.022350  0.030031  0.030031\n",
      "education       NaN        NaN       NaN       NaN       NaN\n",
      "x1         0.022350        NaN  1.000000 -0.005168 -0.604669\n",
      "x2         0.030031        NaN -0.005168  1.000000 -0.288889\n",
      "x3         0.030031        NaN -0.604669 -0.288889  1.000000\n",
      "          0    1         2         3         4\n",
      "0  0.000000  1.0  0.908385  0.877102  0.877102\n",
      "1  1.000000  1.0  1.000000  1.000000  1.000000\n",
      "2  0.908385  1.0  0.000000  0.978773  0.000512\n",
      "3  0.877102  1.0  0.978773  0.000000  0.128536\n",
      "4  0.877102  1.0  0.000512  0.128536  0.000000\n",
      "26 возраст\n",
      "             gender  education        x1        x2        x3\n",
      "gender     1.000000        NaN  0.218218 -0.258199  0.192450\n",
      "education       NaN        NaN       NaN       NaN       NaN\n",
      "x1         0.218218        NaN  1.000000 -0.169031 -0.377964\n",
      "x2        -0.258199        NaN -0.169031  1.000000 -0.447214\n",
      "x3         0.192450        NaN -0.377964 -0.447214  1.000000\n",
      "          0    1         2         3         4\n",
      "0  0.000000  1.0  0.305652  0.223158  0.367619\n",
      "1  1.000000  1.0  1.000000  1.000000  1.000000\n",
      "2  0.305652  1.0  0.000000  0.429774  0.068603\n",
      "3  0.223158  1.0  0.429774  0.000000  0.028444\n",
      "4  0.367619  1.0  0.068603  0.028444  0.000000\n",
      "27 возраст\n",
      "             gender  education        x1        x2        x3\n",
      "gender     1.000000        NaN -0.022556 -0.133798  0.433555\n",
      "education       NaN        NaN       NaN       NaN       NaN\n",
      "x1        -0.022556        NaN  1.000000 -0.040139 -0.606977\n",
      "x2        -0.133798        NaN -0.040139  1.000000 -0.154303\n",
      "x3         0.433555        NaN -0.606977 -0.154303  1.000000\n",
      "          0    1         2         3         4\n",
      "0  0.000000  1.0  0.912907  0.514643  0.026919\n",
      "1  1.000000  1.0  1.000000  1.000000  1.000000\n",
      "2  0.912907  1.0  0.000000  0.845641  0.001009\n",
      "3  0.514643  1.0  0.845641  0.000000  0.451675\n",
      "4  0.026919  1.0  0.001009  0.451675  0.000000\n",
      "28 возраст\n",
      "             gender  education        x1        x2        x3\n",
      "gender     1.000000        NaN  0.085280 -0.383761  0.145455\n",
      "education       NaN        NaN       NaN       NaN       NaN\n",
      "x1         0.085280        NaN  1.000000 -0.300000 -0.533002\n",
      "x2        -0.383761        NaN -0.300000  1.000000 -0.213201\n",
      "x3         0.145455        NaN -0.533002 -0.213201  1.000000\n",
      "          0    1         2         3         4\n",
      "0  0.000000  1.0  0.591281  0.012111  0.358040\n",
      "1  1.000000  1.0  1.000000  1.000000  1.000000\n",
      "2  0.591281  1.0  0.000000  0.053573  0.000279\n",
      "3  0.012111  1.0  0.053573  0.000000  0.175212\n",
      "4  0.358040  1.0  0.000279  0.175212  0.000000\n"
     ]
    }
   ],
   "source": [
    "#df['stage']=(pd.cut(df.age, bins=[14, 18, 22, 26, np.inf], labels=False, right=True) + 1)\n",
    "#print (df1)\n",
    "###df1=df1[df1['age'] != 23]\n",
    "#df2=df1.loc[df1['gender']==2]\n",
    "#df3=df1.loc[df1['gender']==1]\n",
    "#print (df3['age'].describe())\n",
    "#print (df2['age'].describe())\n",
    "##print (df3.describe())\n",
    "#df1=data.loc[data['age'] == 16] \n",
    "#R=[]\n",
    "#y=[]\n",
    "#m=[]\n",
    "x3=[]\n",
    "x1=[]\n",
    "x2=[]\n",
    "x1age=[]\n",
    "x2age=[]\n",
    "x3age=[]\n",
    "age=[]\n",
    "#woom=[]\n",
    "x11=[]\n",
    "x12=[]\n",
    "x13=[]\n",
    "#men=[]\n",
    "#print (df1.corr())\n",
    "#df1=data.drop(['age'], axis=1)\n",
    "#print (df1)\n",
    "#df1=data.copy()\n",
    "df1=data.loc[data['education']==3]\n",
    "#df1=data\n",
    "#print (data.loc[data['age']==26])\n",
    "x=14\n",
    "for i in range (15):\n",
    "    print (x, 'возраст')\n",
    "    df=df1.loc[df1['age'] == x] \n",
    "    #dfm=df.loc[df['gender'] == 1]\n",
    "    #dfw=df.loc[df['gender'] == 2]\n",
    "    #dfw=dfw.drop[dfw[0], axis=0]\n",
    "    #dfc=df.drop(['education', 'x1', ], axis=1)\n",
    "    #dfw=dfw['x3'].value_counts()\n",
    "    #dfm=dfm['x3'].value_counts() \n",
    "    #print (dfm)\n",
    "    #print (dfw)\n",
    "    #try:\n",
    "     #   men.append(dfm.loc[1])\n",
    "        \n",
    "        \n",
    "    #except:\n",
    "     #   men.append(0)\n",
    "    #try:\n",
    "      #  woom.append(dfw.loc[1])\n",
    "   # except:    \n",
    "    #    woom.append(0)\n",
    "     #   print (dfw, x, 'lol')\n",
    "    #men.append(dfm.loc[1])\n",
    "    \n",
    "    #print (dfm[1])\n",
    "    #print (dfm)\n",
    "    age.append(x)\n",
    "    \n",
    "    df=df.drop(['age'], axis=1)\n",
    "    dft=df.corr()\n",
    "    x11.append(dft['gender']['x1'])\n",
    "    x12.append(dft['gender']['x2'])\n",
    "    x13.append(dft['gender']['x3'])\n",
    "    \n",
    "    print (dft)\n",
    "    #print (dft.loc['x1', 'gender'])\n",
    "    #R.append(dft.loc['x1', 'gender'])\n",
    "    #print (df.describe())\n",
    "    #print (df2.corr())\n",
    "    #print (x)\n",
    "    #print (x)\n",
    "    #print (df.describe())\n",
    "    x+=1\n",
    "    mat = df.values.T\n",
    "    K = len(df.columns)\n",
    "    correl = np.empty((K,K), dtype=float)\n",
    "    p_vals = np.empty((K,K), dtype=float)\n",
    "\n",
    "    for i, ac in enumerate(mat):\n",
    "        for j, bc in enumerate(mat):\n",
    "            if i > j:\n",
    "                continue\n",
    "            else:\n",
    "                corr = stats.pearsonr(ac, bc)\n",
    "                #corr = stats.kendalltau(ac, bc)\n",
    "\n",
    "            correl[i,j] = corr[0]\n",
    "            correl[j,i] = corr[0]\n",
    "            p_vals[i,j] = corr[1]\n",
    "            p_vals[j,i] = corr[1]\n",
    "\n",
    "    df_p = pd.DataFrame(p_vals)\n",
    "    df_corr = pd.DataFrame(correl)\n",
    "    #print (df.corr())\n",
    "    \n",
    "    if df_p[0][2]<0.06:\n",
    "        x1.append(dft['gender']['x1'])\n",
    "        x1age.append(x-1)\n",
    "    if df_p[0][3]<0.06:\n",
    "        x2.append(dft['gender']['x2'])\n",
    "        x2age.append(x-1)\n",
    "    if df_p[0][4]<0.06:\n",
    "        x3.append(dft['gender']['x3'])\n",
    "        x3age.append(x-1)\n",
    "    print (df_p)\n",
    "    #print (df_p[1])\n",
    "    #print (dft([0]))\n",
    "    #str(x)=x\n",
    "    #print (15)\n",
    "    #print (x)\n",
    "#df21=data.loc[data['education']==3]\n",
    "#df22=df1.loc[df1['gender']==2]\n",
    "#df32=df1.loc[df1['gender']==1]\n",
    "#print (df32['age'].describe())\n",
    "#print (df22['age'].describe())\n",
    "#print (df22.head())\n",
    "#df31=data.loc[data['education']==1]\n",
    "#df31=df31[df31.age != 23]\n",
    "#df23=df1.loc[df1['gender']==2]\n",
    "#df33=df1.loc[df1['gender']==1]\n",
    "#print (df33['age'].describe())\n",
    "#print (df23['age'].describe())\n",
    "#print (df31.describe())\n",
    "#dfbest=df31.loc[df31['age']==23]\n",
    "#print (dfbest)\n",
    "#for i in df32['age']:\n",
    "  #  print (i)\n",
    "import numpy as np\n",
    "from scipy import stats\n",
    "#print (w)\n",
    "#print (y)\n",
    "#print (len(age))\n",
    "#print (len(woom))\n",
    "#print (len(men))\n",
    "#print (woom)"
   ]
  },
  {
   "cell_type": "code",
   "execution_count": 75,
   "metadata": {},
   "outputs": [
    {
     "name": "stdout",
     "output_type": "stream",
     "text": [
      "1.0\n",
      "0.08528028654224415\n",
      "29\n",
      "[0.2619020289332246]\n",
      "[18]\n",
      "[-0.49206349206349204, -0.45559730210631033, -0.3837612894400987]\n",
      "[16, 17, 28]\n",
      "[0.37157527073014684, 0.43355498476205995]\n",
      "[22, 27]\n",
      "[nan, nan, 0.050964719143762556, -0.1132277034144596, 0.2619020289332246, 0.06285579852709314, 0.14621362348078304, 0.054114632454030635, 0.07504787743864559, 0.002652519893899262, 0.16053821376921548, 0.022349507813383646, 0.21821789023599236, -0.02255639097744362, 0.08528028654224415]\n"
     ]
    }
   ],
   "source": [
    "#ex=df1.loc[df1['age']==22]\n",
    "print (df_p[1][4])\n",
    "print (dft['gender']['x1'])\n",
    "print (x)\n",
    "#i={1:22, 2:33, 3:44, 4:55}\n",
    "#plt.plot(i)\n",
    "#plt.show()\n",
    "print (x1)\n",
    "print (x1age)\n",
    "print (x2)\n",
    "print (x2age)\n",
    "print (x3)\n",
    "print (x3age)\n",
    "print (x11)"
   ]
  },
  {
   "cell_type": "code",
   "execution_count": 72,
   "metadata": {},
   "outputs": [
    {
     "data": {
      "image/png": "[encoded data removed]",
      "text/plain": [
       "<Figure size 432x288 with 1 Axes>"
      ]
     },
     "metadata": {
      "needs_background": "light"
     },
     "output_type": "display_data"
    },
    {
     "data": {
      "text/plain": [
       "<matplotlib.collections.PathCollection at 0xbc77978>"
      ]
     },
     "execution_count": 72,
     "metadata": {},
     "output_type": "execute_result"
    }
   ],
   "source": [
    "fig, ax = plt.subplots()\n",
    "#ax.set_title(fontsize=12, family='Times New Roman')\n",
    "ax.set_ylabel('Возраст', fontsize=12, family='Times New Roman')\n",
    "ax.set_xlabel('Коэффициент корреляции', fontsize=12, family='Times New Roman')\n",
    "plt.xticks(fontsize=12, family='Times New Roman')\n",
    "#ax.plot(x11, age, label='x1')\n",
    "#ax.plot(x12, age, label='x2')\n",
    "#ax.plot(x13, age, label='x3')\n",
    "#ax.scatter(x11, age)\n",
    "#ax.scatter(x12, age)\n",
    "#ax.scatter(x13, age)\n",
    "ax.plot(x1, x1age, color='r', label='x1')\n",
    "ax.plot(x2, x2age, label='x2')\n",
    "ax.plot(x3, x3age, label='x3')\n",
    "ax.scatter(x1, x1age, color='r')\n",
    "ax.scatter(x2, x2age)\n",
    "ax.scatter(x3, x3age)\n",
    "\n",
    "#ax.plot(w, y, label=\"cat\")\n",
    "#plt.setp(fontsize=16, family='Times New Roman')\n",
    "ax.legend()\n",
    "#plt.plot (t, w)\n",
    "plt.show()\n",
    "ax.plot(x1, x1age, color='r', label='x1')\n",
    "ax.plot(x2, x2age, label='x2')\n",
    "ax.plot(x3, x3age, label='x3')\n",
    "ax.scatter(x1, x1age, color='r')\n",
    "ax.scatter(x2, x2age)\n",
    "ax.scatter(x3, x3age)\n"
   ]
  },
  {
   "cell_type": "code",
   "execution_count": 73,
   "metadata": {},
   "outputs": [
    {
     "data": {
      "image/png": "[encoded data removed]",
      "text/plain": [
       "<Figure size 432x288 with 1 Axes>"
      ]
     },
     "metadata": {
      "needs_background": "light"
     },
     "output_type": "display_data"
    }
   ],
   "source": [
    "fig, ax = plt.subplots()\n",
    "#ax.set_title(fontsize=12, family='Times New Roman')\n",
    "ax.set_ylabel('Возраст', fontsize=12, family='Times New Roman')\n",
    "ax.set_xlabel('Коэффициент корреляции', fontsize=12, family='Times New Roman')\n",
    "plt.xticks(fontsize=12, family='Times New Roman')\n",
    "ax.plot(x11, age, label='x1')\n",
    "#ax.plot(x12, age, label='x2')\n",
    "ax.plot(x13, age, label='x3')\n",
    "ax.scatter(x11, age)\n",
    "#ax.scatter(x12, age)\n",
    "ax.scatter(x13, age)\n",
    "#ax.plot(x1, x1age, color='r', label='x1')\n",
    "#ax.plot(x2, x2age, label='x2')\n",
    "#ax.plot(x3, x3age, label='x3')\n",
    "#ax.scatter(x1, x1age, color='r')\n",
    "#ax.scatter(x2, x2age)\n",
    "#ax.scatter(x3, x3age)\n",
    "\n",
    "#ax.plot(w, y, label=\"cat\")\n",
    "#plt.setp(fontsize=16, family='Times New Roman')\n",
    "ax.legend()\n",
    "#plt.plot (t, w)\n",
    "plt.show()"
   ]
  },
  {
   "cell_type": "code",
   "execution_count": 76,
   "metadata": {},
   "outputs": [
    {
     "name": "stderr",
     "output_type": "stream",
     "text": [
      "No handles with labels found to put in legend.\n"
     ]
    },
    {
     "name": "stdout",
     "output_type": "stream",
     "text": [
      "[0.07714419191334611, 0.030422771786806434, 0.18855647476311427, 0.27059302558687254, 0.28305816591906574, 0.09491579957524995, 0.2069593385961787, 0.04524626975753661, 0.07504787743864559, 0.12334815060798236, 0.16053821376921548, 0.022349507813383646, 0.21821789023599236, -0.02255639097744362, 0.08528028654224415, 0.07714419191334611, 0.030422771786806434, 0.18855647476311427, 0.27059302558687254, 0.28305816591906574, 0.09491579957524995, 0.2069593385961787, 0.04524626975753661, 0.07504787743864559, 0.12334815060798236, 0.16053821376921548, 0.022349507813383646, 0.21821789023599236, -0.02255639097744362, 0.08528028654224415]\n",
      "[14, 15, 16, 17, 18, 19, 20, 21, 22, 23, 24, 25, 26, 27, 28]\n"
     ]
    },
    {
     "data": {
      "image/png": "[encoded data removed]",
      "text/plain": [
       "<Figure size 432x288 with 1 Axes>"
      ]
     },
     "metadata": {
      "needs_background": "light"
     },
     "output_type": "display_data"
    }
   ],
   "source": [
    "mat = df.values.T\n",
    "K = len(df.columns)\n",
    "correl = np.empty((K,K), dtype=float)\n",
    "p_vals = np.empty((K,K), dtype=float)\n",
    "\n",
    "for i, ac in enumerate(mat):\n",
    "    for j, bc in enumerate(mat):\n",
    "        if i > j:\n",
    "            continue\n",
    "        else:\n",
    "            corr = stats.pearsonr(ac, bc)\n",
    "            #corr = stats.kendalltau(ac, bc)\n",
    "\n",
    "        correl[i,j] = corr[0]\n",
    "        correl[j,i] = corr[0]\n",
    "        p_vals[i,j] = corr[1]\n",
    "        p_vals[j,i] = corr[1]\n",
    "\n",
    "df_p = pd.DataFrame(p_vals)\n",
    "df_corr = pd.DataFrame(correl)\n",
    "df2=data.loc[data['age']==16]\n",
    "df2=df2.loc[df2['education']==2]\n",
    "\n",
    "#t.append(dft.loc['x1', 'gender'])\n",
    "print (w)\n",
    "import matplotlib.pyplot as plt\n",
    "print (y)\n",
    "fig, ax = plt.subplots()\n",
    "ax.set_title('Коэффициент корреляции первого фактора и пола')\n",
    "ax.set_ylabel('Возраст')\n",
    "ax.set_xlabel('Коэффициент корреляции')\n",
    "ax.plot(R, age)\n",
    "#ax.plot(w, y, label=\"cat\")\n",
    "ax.legend()\n",
    "#plt.plot (t, w)\n",
    "plt.show()"
   ]
  },
  {
   "cell_type": "code",
   "execution_count": 77,
   "metadata": {
    "scrolled": true
   },
   "outputs": [
    {
     "name": "stderr",
     "output_type": "stream",
     "text": [
      "No handles with labels found to put in legend.\n"
     ]
    },
    {
     "data": {
      "image/png": "[encoded data removed]",
      "text/plain": [
       "<Figure size 432x288 with 1 Axes>"
      ]
     },
     "metadata": {
      "needs_background": "light"
     },
     "output_type": "display_data"
    }
   ],
   "source": [
    "fig, ax = plt.subplots()\n",
    "ax.set_title('Коэффициент корреляции второго фактора и пола')\n",
    "ax.set_ylabel('Возраст')\n",
    "ax.set_xlabel('Коэффициент корреляции')\n",
    "ax.plot(m, age)\n",
    "#ax.plot(w, y, label=\"cat\")\n",
    "ax.legend()\n",
    "#plt.plot (t, w)\n",
    "plt.show()\n"
   ]
  },
  {
   "cell_type": "code",
   "execution_count": 78,
   "metadata": {},
   "outputs": [
    {
     "name": "stderr",
     "output_type": "stream",
     "text": [
      "No handles with labels found to put in legend.\n"
     ]
    },
    {
     "data": {
      "image/png": "[encoded data removed]",
      "text/plain": [
       "<Figure size 432x288 with 1 Axes>"
      ]
     },
     "metadata": {
      "needs_background": "light"
     },
     "output_type": "display_data"
    }
   ],
   "source": [
    "fig, ax = plt.subplots()\n",
    "ax.set_title('Коэффициент корреляции третьего фактора и пола')\n",
    "ax.set_ylabel('Возраст')\n",
    "ax.set_xlabel('Коэффициент корреляции')\n",
    "ax.plot(x3, age)\n",
    "#ax.plot(w, y, label=\"cat\")\n",
    "ax.legend()\n",
    "#plt.plot (t, w)\n",
    "plt.show()\n"
   ]
  },
  {
   "cell_type": "code",
   "execution_count": 41,
   "metadata": {},
   "outputs": [
    {
     "name": "stderr",
     "output_type": "stream",
     "text": [
      "No handles with labels found to put in legend.\n"
     ]
    },
    {
     "data": {
      "image/png": "[encoded data removed]",
      "text/plain": [
       "<Figure size 432x288 with 1 Axes>"
      ]
     },
     "metadata": {
      "needs_background": "light"
     },
     "output_type": "display_data"
    }
   ],
   "source": [
    "fig, ax = plt.subplots()\n",
    "ax.set_title('Коэфициент корреляции третьего фактора и возраста')\n",
    "ax.set_ylabel('Возраст')\n",
    "ax.set_xlabel('Коэфициент корреляции')\n",
    "ax.plot(ed, age)\n",
    "#ax.plot(w, y, label=\"cat\")\n",
    "ax.legend()\n",
    "#plt.plot (t, w)\n",
    "plt.show()\n"
   ]
  },
  {
   "cell_type": "code",
   "execution_count": 66,
   "metadata": {},
   "outputs": [
    {
     "name": "stdout",
     "output_type": "stream",
     "text": [
      "           gender  education        x1        x2        x3\n",
      "gender        NaN        NaN       NaN       NaN       NaN\n",
      "education     NaN   1.000000  0.127396 -0.043378 -0.091936\n",
      "x1            NaN   0.127396  1.000000 -0.179402 -0.471530\n",
      "x2            NaN  -0.043378 -0.179402  1.000000 -0.274707\n",
      "x3            NaN  -0.091936 -0.471530 -0.274707  1.000000\n",
      "[0.14930979953959686, 0.12739630912339148]\n"
     ]
    }
   ],
   "source": [
    "df1=data.drop(['age'], axis=1)\n",
    "#print (df1)\n",
    "df=df1.loc[df1['gender'] == 2] \n",
    "#print (df)\n",
    "\n",
    "dft=df.corr()\n",
    "print (dft)\n",
    "ed.append(dft.loc['x1', 'education'])\n",
    "print (ed)"
   ]
  },
  {
   "cell_type": "code",
   "execution_count": 100,
   "metadata": {},
   "outputs": [
    {
     "name": "stdout",
     "output_type": "stream",
     "text": [
      "[33, 23, 78, 52, 36, 26, 18, 35, 11, 17, 9, 7, 2, 8, 4]\n",
      "[27, 20, 52, 54, 28, 11, 16, 7, 10, 6, 1, 2, 2, 4, 11]\n"
     ]
    }
   ],
   "source": [
    "print (woom)\n",
    "print (men)\n",
    "#ed=[]"
   ]
  },
  {
   "cell_type": "code",
   "execution_count": null,
   "metadata": {},
   "outputs": [],
   "source": [
    "p=pd.concat([df_corr, df_p], keys=['corr', 'p_val'])\n",
    "\n",
    "print (df_corr)\n",
    "print (df_p)\n",
    "#print (p)"
   ]
  },
  {
   "cell_type": "code",
   "execution_count": 38,
   "metadata": {},
   "outputs": [
    {
     "ename": "AttributeError",
     "evalue": "module 'pandas' has no attribute 'ols'",
     "output_type": "error",
     "traceback": [
      "\u001b[1;31m---------------------------------------------------------------------------\u001b[0m",
      "\u001b[1;31mAttributeError\u001b[0m                            Traceback (most recent call last)",
      "\u001b[1;32m<ipython-input-38-6fc59cb4b61d>\u001b[0m in \u001b[0;36m<module>\u001b[1;34m\u001b[0m\n\u001b[0;32m      4\u001b[0m \u001b[1;32mfor\u001b[0m \u001b[0mi\u001b[0m \u001b[1;32min\u001b[0m \u001b[0mrange\u001b[0m\u001b[1;33m(\u001b[0m\u001b[0mdata\u001b[0m\u001b[1;33m.\u001b[0m\u001b[0mshape\u001b[0m\u001b[1;33m[\u001b[0m\u001b[1;36m1\u001b[0m\u001b[1;33m]\u001b[0m\u001b[1;33m)\u001b[0m\u001b[1;33m:\u001b[0m \u001b[1;31m# rows are the number of rows in the matrix.\u001b[0m\u001b[1;33m\u001b[0m\u001b[1;33m\u001b[0m\u001b[0m\n\u001b[0;32m      5\u001b[0m     \u001b[1;32mfor\u001b[0m \u001b[0mj\u001b[0m \u001b[1;32min\u001b[0m \u001b[0mrange\u001b[0m\u001b[1;33m(\u001b[0m\u001b[0mdata\u001b[0m\u001b[1;33m.\u001b[0m\u001b[0mshape\u001b[0m\u001b[1;33m[\u001b[0m\u001b[1;36m1\u001b[0m\u001b[1;33m]\u001b[0m\u001b[1;33m)\u001b[0m\u001b[1;33m:\u001b[0m\u001b[1;33m\u001b[0m\u001b[1;33m\u001b[0m\u001b[0m\n\u001b[1;32m----> 6\u001b[1;33m         \u001b[0mJonI\u001b[0m        \u001b[1;33m=\u001b[0m\u001b[0mpd\u001b[0m\u001b[1;33m.\u001b[0m\u001b[0mols\u001b[0m\u001b[1;33m(\u001b[0m\u001b[0my\u001b[0m\u001b[1;33m=\u001b[0m\u001b[0mdata\u001b[0m\u001b[1;33m.\u001b[0m\u001b[0micol\u001b[0m\u001b[1;33m(\u001b[0m\u001b[0mi\u001b[0m\u001b[1;33m)\u001b[0m\u001b[1;33m,\u001b[0m \u001b[0mx\u001b[0m\u001b[1;33m=\u001b[0m\u001b[0mdata\u001b[0m\u001b[1;33m.\u001b[0m\u001b[0micol\u001b[0m\u001b[1;33m(\u001b[0m\u001b[0mj\u001b[0m\u001b[1;33m)\u001b[0m\u001b[1;33m,\u001b[0m \u001b[0mintercept\u001b[0m\u001b[1;33m=\u001b[0m\u001b[1;32mTrue\u001b[0m\u001b[1;33m)\u001b[0m\u001b[1;33m\u001b[0m\u001b[1;33m\u001b[0m\u001b[0m\n\u001b[0m\u001b[0;32m      7\u001b[0m         \u001b[0mpval\u001b[0m\u001b[1;33m[\u001b[0m\u001b[0mi\u001b[0m\u001b[1;33m,\u001b[0m\u001b[0mj\u001b[0m\u001b[1;33m]\u001b[0m  \u001b[1;33m=\u001b[0m \u001b[0mJonI\u001b[0m\u001b[1;33m.\u001b[0m\u001b[0mf_stat\u001b[0m\u001b[1;33m[\u001b[0m\u001b[1;34m'p-value'\u001b[0m\u001b[1;33m]\u001b[0m\u001b[1;33m\u001b[0m\u001b[1;33m\u001b[0m\u001b[0m\n",
      "\u001b[1;31mAttributeError\u001b[0m: module 'pandas' has no attribute 'ols'"
     ]
    }
   ],
   "source": [
    "\n",
    "\n",
    "\n",
    "import statsmodels.formula.api as sm\n",
    "rho = data.corr()\n",
    "pval = np.zeros([data.shape[1],data.shape[1]])\n",
    "for i in range(data.shape[1]): # rows are the number of rows in the matrix.\n",
    "    for j in range(data.shape[1]):\n",
    "        JonI        =pd.ols(y=data.icol(i), x=data.icol(j), intercept=True)\n",
    "        pval[i,j]  = JonI.f_stat['p-value']"
   ]
  },
  {
   "cell_type": "code",
   "execution_count": 39,
   "metadata": {},
   "outputs": [
    {
     "ename": "NameError",
     "evalue": "name 'pearsonr' is not defined",
     "output_type": "error",
     "traceback": [
      "\u001b[1;31m---------------------------------------------------------------------------\u001b[0m",
      "\u001b[1;31mNameError\u001b[0m                                 Traceback (most recent call last)",
      "\u001b[1;32m<ipython-input-39-211f58911b95>\u001b[0m in \u001b[0;36m<module>\u001b[1;34m\u001b[0m\n\u001b[0;32m      7\u001b[0m             \u001b[0mpvalues\u001b[0m\u001b[1;33m[\u001b[0m\u001b[0mr\u001b[0m\u001b[1;33m]\u001b[0m\u001b[1;33m[\u001b[0m\u001b[0mc\u001b[0m\u001b[1;33m]\u001b[0m \u001b[1;33m=\u001b[0m \u001b[0mround\u001b[0m\u001b[1;33m(\u001b[0m\u001b[0mpearsonr\u001b[0m\u001b[1;33m(\u001b[0m\u001b[0mdf\u001b[0m\u001b[1;33m[\u001b[0m\u001b[0mr\u001b[0m\u001b[1;33m]\u001b[0m\u001b[1;33m,\u001b[0m \u001b[0mdf\u001b[0m\u001b[1;33m[\u001b[0m\u001b[0mc\u001b[0m\u001b[1;33m]\u001b[0m\u001b[1;33m)\u001b[0m\u001b[1;33m[\u001b[0m\u001b[1;36m1\u001b[0m\u001b[1;33m]\u001b[0m\u001b[1;33m,\u001b[0m \u001b[1;36m4\u001b[0m\u001b[1;33m)\u001b[0m\u001b[1;33m\u001b[0m\u001b[1;33m\u001b[0m\u001b[0m\n\u001b[0;32m      8\u001b[0m     \u001b[1;32mreturn\u001b[0m \u001b[0mpvalues\u001b[0m\u001b[1;33m\u001b[0m\u001b[1;33m\u001b[0m\u001b[0m\n\u001b[1;32m----> 9\u001b[1;33m \u001b[0mcalculate_pvalues\u001b[0m\u001b[1;33m(\u001b[0m\u001b[0mdata\u001b[0m\u001b[1;33m[\u001b[0m\u001b[1;33m[\u001b[0m\u001b[1;34m'gender'\u001b[0m\u001b[1;33m,\u001b[0m \u001b[1;34m'age'\u001b[0m\u001b[1;33m,\u001b[0m \u001b[1;34m'education'\u001b[0m\u001b[1;33m,\u001b[0m \u001b[1;34m'x1'\u001b[0m\u001b[1;33m,\u001b[0m \u001b[1;34m'x2'\u001b[0m\u001b[1;33m,\u001b[0m \u001b[1;34m'x3'\u001b[0m\u001b[1;33m]\u001b[0m\u001b[1;33m]\u001b[0m\u001b[1;33m)\u001b[0m\u001b[1;33m\u001b[0m\u001b[1;33m\u001b[0m\u001b[0m\n\u001b[0m",
      "\u001b[1;32m<ipython-input-39-211f58911b95>\u001b[0m in \u001b[0;36mcalculate_pvalues\u001b[1;34m(df)\u001b[0m\n\u001b[0;32m      5\u001b[0m     \u001b[1;32mfor\u001b[0m \u001b[0mr\u001b[0m \u001b[1;32min\u001b[0m \u001b[0mdf\u001b[0m\u001b[1;33m.\u001b[0m\u001b[0mcolumns\u001b[0m\u001b[1;33m:\u001b[0m\u001b[1;33m\u001b[0m\u001b[1;33m\u001b[0m\u001b[0m\n\u001b[0;32m      6\u001b[0m         \u001b[1;32mfor\u001b[0m \u001b[0mc\u001b[0m \u001b[1;32min\u001b[0m \u001b[0mdf\u001b[0m\u001b[1;33m.\u001b[0m\u001b[0mcolumns\u001b[0m\u001b[1;33m:\u001b[0m\u001b[1;33m\u001b[0m\u001b[1;33m\u001b[0m\u001b[0m\n\u001b[1;32m----> 7\u001b[1;33m             \u001b[0mpvalues\u001b[0m\u001b[1;33m[\u001b[0m\u001b[0mr\u001b[0m\u001b[1;33m]\u001b[0m\u001b[1;33m[\u001b[0m\u001b[0mc\u001b[0m\u001b[1;33m]\u001b[0m \u001b[1;33m=\u001b[0m \u001b[0mround\u001b[0m\u001b[1;33m(\u001b[0m\u001b[0mpearsonr\u001b[0m\u001b[1;33m(\u001b[0m\u001b[0mdf\u001b[0m\u001b[1;33m[\u001b[0m\u001b[0mr\u001b[0m\u001b[1;33m]\u001b[0m\u001b[1;33m,\u001b[0m \u001b[0mdf\u001b[0m\u001b[1;33m[\u001b[0m\u001b[0mc\u001b[0m\u001b[1;33m]\u001b[0m\u001b[1;33m)\u001b[0m\u001b[1;33m[\u001b[0m\u001b[1;36m1\u001b[0m\u001b[1;33m]\u001b[0m\u001b[1;33m,\u001b[0m \u001b[1;36m4\u001b[0m\u001b[1;33m)\u001b[0m\u001b[1;33m\u001b[0m\u001b[1;33m\u001b[0m\u001b[0m\n\u001b[0m\u001b[0;32m      8\u001b[0m     \u001b[1;32mreturn\u001b[0m \u001b[0mpvalues\u001b[0m\u001b[1;33m\u001b[0m\u001b[1;33m\u001b[0m\u001b[0m\n\u001b[0;32m      9\u001b[0m \u001b[0mcalculate_pvalues\u001b[0m\u001b[1;33m(\u001b[0m\u001b[0mdata\u001b[0m\u001b[1;33m[\u001b[0m\u001b[1;33m[\u001b[0m\u001b[1;34m'gender'\u001b[0m\u001b[1;33m,\u001b[0m \u001b[1;34m'age'\u001b[0m\u001b[1;33m,\u001b[0m \u001b[1;34m'education'\u001b[0m\u001b[1;33m,\u001b[0m \u001b[1;34m'x1'\u001b[0m\u001b[1;33m,\u001b[0m \u001b[1;34m'x2'\u001b[0m\u001b[1;33m,\u001b[0m \u001b[1;34m'x3'\u001b[0m\u001b[1;33m]\u001b[0m\u001b[1;33m]\u001b[0m\u001b[1;33m)\u001b[0m\u001b[1;33m\u001b[0m\u001b[1;33m\u001b[0m\u001b[0m\n",
      "\u001b[1;31mNameError\u001b[0m: name 'pearsonr' is not defined"
     ]
    }
   ],
   "source": [
    "def calculate_pvalues(df):\n",
    "    df = df.dropna()._get_numeric_data()\n",
    "    dfcols = pd.DataFrame(columns=df.columns)\n",
    "    pvalues = dfcols.transpose().join(dfcols, how='outer')\n",
    "    for r in df.columns:\n",
    "        for c in df.columns:\n",
    "            pvalues[r][c] = round(pearsonr(df[r], df[c])[1], 4)\n",
    "    return pvalues\n",
    "calculate_pvalues(data[['gender', 'age', 'education', 'x1', 'x2', 'x3']])"
   ]
  },
  {
   "cell_type": "code",
   "execution_count": 40,
   "metadata": {},
   "outputs": [],
   "source": [
    "#df_p.to_csv('D:\\\\out.csv', ';')\n",
    "(data.corr()).to_csv('D:\\\\outu.csv', ';')\n"
   ]
  },
  {
   "cell_type": "code",
   "execution_count": 41,
   "metadata": {},
   "outputs": [],
   "source": [
    "dt=data"
   ]
  },
  {
   "cell_type": "code",
   "execution_count": 42,
   "metadata": {},
   "outputs": [
    {
     "data": {
      "text/plain": [
       "<matplotlib.axes._subplots.AxesSubplot at 0xb80a400>"
      ]
     },
     "execution_count": 42,
     "metadata": {},
     "output_type": "execute_result"
    }
   ],
   "source": [
    "dt['age'].hist()"
   ]
  },
  {
   "cell_type": "code",
   "execution_count": 43,
   "metadata": {},
   "outputs": [
    {
     "data": {
      "text/plain": [
       "<matplotlib.axes._subplots.AxesSubplot at 0xbc56780>"
      ]
     },
     "execution_count": 43,
     "metadata": {},
     "output_type": "execute_result"
    },
    {
     "data": {
      "image/png": "[encoded data removed]",
      "text/plain": [
       "<Figure size 432x288 with 1 Axes>"
      ]
     },
     "metadata": {
      "needs_background": "light"
     },
     "output_type": "display_data"
    }
   ],
   "source": [
    "dt['gender'].hist()"
   ]
  },
  {
   "cell_type": "code",
   "execution_count": 44,
   "metadata": {},
   "outputs": [
    {
     "data": {
      "text/plain": [
       "<matplotlib.axes._subplots.AxesSubplot at 0xbce95c0>"
      ]
     },
     "execution_count": 44,
     "metadata": {},
     "output_type": "execute_result"
    },
    {
     "data": {
      "image/png": "[encoded data removed]",
      "text/plain": [
       "<Figure size 432x288 with 1 Axes>"
      ]
     },
     "metadata": {
      "needs_background": "light"
     },
     "output_type": "display_data"
    }
   ],
   "source": [
    "dt['education'].hist()"
   ]
  },
  {
   "cell_type": "code",
   "execution_count": 99,
   "metadata": {},
   "outputs": [],
   "source": [
    "#print (dt([['age'], ['x1'], ['x2'], ['x3']]))\n",
    "d=dt.loc[:,['age', 'x1', 'x2', 'x3', 'gender', 'education']]\n",
    "#d=d.loc[d['age']==18]"
   ]
  },
  {
   "cell_type": "code",
   "execution_count": 122,
   "metadata": {},
   "outputs": [
    {
     "name": "stdout",
     "output_type": "stream",
     "text": [
      "           age        x1        x2        x3    gender  education\n",
      "age        NaN       NaN       NaN       NaN       NaN        NaN\n",
      "x1         NaN  1.000000 -0.168468 -0.499574  0.411235        NaN\n",
      "x2         NaN -0.168468  1.000000 -0.204882  0.010040        NaN\n",
      "x3         NaN -0.499574 -0.204882  1.000000 -0.057381        NaN\n",
      "gender     NaN  0.411235  0.010040 -0.057381  1.000000        NaN\n",
      "education  NaN       NaN       NaN       NaN       NaN        NaN\n"
     ]
    }
   ],
   "source": [
    "#print (d.corr())\n",
    "d=d.loc[d['age']==18]\n",
    "d=d.loc[d['education']==2]\n",
    "print (d.corr())"
   ]
  },
  {
   "cell_type": "code",
   "execution_count": 123,
   "metadata": {},
   "outputs": [],
   "source": [
    "from sklearn.linear_model import LinearRegression\n",
    "#t=d\n",
    "\n",
    "#X=dt.drop(['x1', 'x2', 'x3'], axis=1)\n",
    "X=d.drop(['x1', 'x2', 'x3'], axis=1)\n",
    "\n",
    "#X=X.loc(X['age']==18)"
   ]
  },
  {
   "cell_type": "code",
   "execution_count": 124,
   "metadata": {},
   "outputs": [
    {
     "name": "stdout",
     "output_type": "stream",
     "text": [
      "(63, 3)\n",
      "<class 'pandas.core.frame.DataFrame'>\n"
     ]
    }
   ],
   "source": [
    "y=d['x1']\n",
    "#y=dt['x1']\n",
    "print (X.shape)\n",
    "print (type(X))\n",
    "#print (X.reshape(0,1))"
   ]
  },
  {
   "cell_type": "code",
   "execution_count": 125,
   "metadata": {},
   "outputs": [
    {
     "data": {
      "text/plain": [
       "LinearRegression(copy_X=True, fit_intercept=True, n_jobs=None,\n",
       "         normalize=False)"
      ]
     },
     "execution_count": 125,
     "metadata": {},
     "output_type": "execute_result"
    }
   ],
   "source": [
    "model = LinearRegression()\n",
    "model.fit(X, y)\n",
    "#print (X)"
   ]
  },
  {
   "cell_type": "code",
   "execution_count": 126,
   "metadata": {},
   "outputs": [
    {
     "name": "stdout",
     "output_type": "stream",
     "text": [
      "R^2: 0.16911455725627614\n"
     ]
    }
   ],
   "source": [
    "print ('R^2: {0}'.format(model.score(X, y)))"
   ]
  },
  {
   "cell_type": "code",
   "execution_count": 128,
   "metadata": {},
   "outputs": [
    {
     "data": {
      "text/html": [
       "<div>\n",
       "<style scoped>\n",
       "    .dataframe tbody tr th:only-of-type {\n",
       "        vertical-align: middle;\n",
       "    }\n",
       "\n",
       "    .dataframe tbody tr th {\n",
       "        vertical-align: top;\n",
       "    }\n",
       "\n",
       "    .dataframe thead th {\n",
       "        text-align: right;\n",
       "    }\n",
       "</style>\n",
       "<table border=\"1\" class=\"dataframe\">\n",
       "  <thead>\n",
       "    <tr style=\"text-align: right;\">\n",
       "      <th></th>\n",
       "      <th>predictor</th>\n",
       "      <th>coef</th>\n",
       "    </tr>\n",
       "  </thead>\n",
       "  <tbody>\n",
       "    <tr>\n",
       "      <th>0</th>\n",
       "      <td>intercept</td>\n",
       "      <td>-0.235887</td>\n",
       "    </tr>\n",
       "    <tr>\n",
       "      <th>1</th>\n",
       "      <td>age</td>\n",
       "      <td>0.000000</td>\n",
       "    </tr>\n",
       "    <tr>\n",
       "      <th>2</th>\n",
       "      <td>gender</td>\n",
       "      <td>0.392137</td>\n",
       "    </tr>\n",
       "    <tr>\n",
       "      <th>3</th>\n",
       "      <td>education</td>\n",
       "      <td>0.000000</td>\n",
       "    </tr>\n",
       "  </tbody>\n",
       "</table>\n",
       "</div>"
      ],
      "text/plain": [
       "   predictor      coef\n",
       "0  intercept -0.235887\n",
       "1        age  0.000000\n",
       "2     gender  0.392137\n",
       "3  education  0.000000"
      ]
     },
     "execution_count": 128,
     "metadata": {},
     "output_type": "execute_result"
    }
   ],
   "source": [
    "coef = pd.DataFrame(zip(['intercept'] + X.columns.tolist(), [model.intercept_] + model.coef_.tolist()),\n",
    "                    columns=['predictor', 'coef'])\n",
    "coef\n",
    "#np.linalg.inv(X)\n",
    "#print (X)"
   ]
  },
  {
   "cell_type": "code",
   "execution_count": 117,
   "metadata": {},
   "outputs": [
    {
     "ename": "LinAlgError",
     "evalue": "Singular matrix",
     "output_type": "error",
     "traceback": [
      "\u001b[1;31m---------------------------------------------------------------------------\u001b[0m",
      "\u001b[1;31mLinAlgError\u001b[0m                               Traceback (most recent call last)",
      "\u001b[1;32m<ipython-input-117-827d510938b9>\u001b[0m in \u001b[0;36m<module>\u001b[1;34m\u001b[0m\n\u001b[0;32m     12\u001b[0m     \u001b[0mcoef\u001b[0m\u001b[1;33m[\u001b[0m\u001b[1;34m'pvalue'\u001b[0m\u001b[1;33m]\u001b[0m \u001b[1;33m=\u001b[0m \u001b[1;33m[\u001b[0m\u001b[1;36m2\u001b[0m \u001b[1;33m*\u001b[0m \u001b[1;33m(\u001b[0m\u001b[1;36m1\u001b[0m \u001b[1;33m-\u001b[0m \u001b[0mstats\u001b[0m\u001b[1;33m.\u001b[0m\u001b[0mt\u001b[0m\u001b[1;33m.\u001b[0m\u001b[0mcdf\u001b[0m\u001b[1;33m(\u001b[0m\u001b[0mnp\u001b[0m\u001b[1;33m.\u001b[0m\u001b[0mabs\u001b[0m\u001b[1;33m(\u001b[0m\u001b[0mi\u001b[0m\u001b[1;33m)\u001b[0m\u001b[1;33m,\u001b[0m \u001b[1;33m(\u001b[0m\u001b[0mlen\u001b[0m\u001b[1;33m(\u001b[0m\u001b[0mX1\u001b[0m\u001b[1;33m)\u001b[0m \u001b[1;33m-\u001b[0m \u001b[1;36m1\u001b[0m\u001b[1;33m)\u001b[0m\u001b[1;33m)\u001b[0m\u001b[1;33m)\u001b[0m \u001b[1;32mfor\u001b[0m \u001b[0mi\u001b[0m \u001b[1;32min\u001b[0m \u001b[0mt\u001b[0m\u001b[1;33m]\u001b[0m\u001b[1;33m\u001b[0m\u001b[1;33m\u001b[0m\u001b[0m\n\u001b[0;32m     13\u001b[0m     \u001b[1;32mreturn\u001b[0m \u001b[0mcoef\u001b[0m\u001b[1;33m\u001b[0m\u001b[1;33m\u001b[0m\u001b[0m\n\u001b[1;32m---> 14\u001b[1;33m \u001b[0mregression_coef\u001b[0m\u001b[1;33m(\u001b[0m\u001b[0mmodel\u001b[0m\u001b[1;33m,\u001b[0m \u001b[0mX\u001b[0m\u001b[1;33m,\u001b[0m \u001b[0my\u001b[0m\u001b[1;33m)\u001b[0m\u001b[1;33m\u001b[0m\u001b[1;33m\u001b[0m\u001b[0m\n\u001b[0m",
      "\u001b[1;32m<ipython-input-117-827d510938b9>\u001b[0m in \u001b[0;36mregression_coef\u001b[1;34m(model, X, y)\u001b[0m\n\u001b[0;32m      7\u001b[0m     \u001b[0mb\u001b[0m \u001b[1;33m=\u001b[0m \u001b[0mnp\u001b[0m\u001b[1;33m.\u001b[0m\u001b[0mappend\u001b[0m\u001b[1;33m(\u001b[0m\u001b[0mmodel\u001b[0m\u001b[1;33m.\u001b[0m\u001b[0mintercept_\u001b[0m\u001b[1;33m,\u001b[0m \u001b[0mmodel\u001b[0m\u001b[1;33m.\u001b[0m\u001b[0mcoef_\u001b[0m\u001b[1;33m)\u001b[0m\u001b[1;33m\u001b[0m\u001b[1;33m\u001b[0m\u001b[0m\n\u001b[0;32m      8\u001b[0m     \u001b[0mMSE\u001b[0m \u001b[1;33m=\u001b[0m \u001b[0mnp\u001b[0m\u001b[1;33m.\u001b[0m\u001b[0msum\u001b[0m\u001b[1;33m(\u001b[0m\u001b[1;33m(\u001b[0m\u001b[0mmodel\u001b[0m\u001b[1;33m.\u001b[0m\u001b[0mpredict\u001b[0m\u001b[1;33m(\u001b[0m\u001b[0mX\u001b[0m\u001b[1;33m)\u001b[0m \u001b[1;33m-\u001b[0m \u001b[0my\u001b[0m\u001b[1;33m)\u001b[0m \u001b[1;33m**\u001b[0m \u001b[1;36m2\u001b[0m\u001b[1;33m,\u001b[0m \u001b[0maxis\u001b[0m\u001b[1;33m=\u001b[0m\u001b[1;36m0\u001b[0m\u001b[1;33m)\u001b[0m \u001b[1;33m/\u001b[0m \u001b[0mfloat\u001b[0m\u001b[1;33m(\u001b[0m\u001b[0mX\u001b[0m\u001b[1;33m.\u001b[0m\u001b[0mshape\u001b[0m\u001b[1;33m[\u001b[0m\u001b[1;36m0\u001b[0m\u001b[1;33m]\u001b[0m \u001b[1;33m-\u001b[0m \u001b[0mX\u001b[0m\u001b[1;33m.\u001b[0m\u001b[0mshape\u001b[0m\u001b[1;33m[\u001b[0m\u001b[1;36m1\u001b[0m\u001b[1;33m]\u001b[0m\u001b[1;33m)\u001b[0m\u001b[1;33m\u001b[0m\u001b[1;33m\u001b[0m\u001b[0m\n\u001b[1;32m----> 9\u001b[1;33m     \u001b[0mvar_b\u001b[0m \u001b[1;33m=\u001b[0m \u001b[0mMSE\u001b[0m \u001b[1;33m*\u001b[0m \u001b[1;33m(\u001b[0m\u001b[0mnp\u001b[0m\u001b[1;33m.\u001b[0m\u001b[0mlinalg\u001b[0m\u001b[1;33m.\u001b[0m\u001b[0minv\u001b[0m\u001b[1;33m(\u001b[0m\u001b[0mnp\u001b[0m\u001b[1;33m.\u001b[0m\u001b[0mdot\u001b[0m\u001b[1;33m(\u001b[0m\u001b[0mX1\u001b[0m\u001b[1;33m.\u001b[0m\u001b[0mT\u001b[0m\u001b[1;33m,\u001b[0m \u001b[0mX1\u001b[0m\u001b[1;33m)\u001b[0m\u001b[1;33m)\u001b[0m\u001b[1;33m.\u001b[0m\u001b[0mdiagonal\u001b[0m\u001b[1;33m(\u001b[0m\u001b[1;33m)\u001b[0m\u001b[1;33m)\u001b[0m\u001b[1;33m\u001b[0m\u001b[1;33m\u001b[0m\u001b[0m\n\u001b[0m\u001b[0;32m     10\u001b[0m     \u001b[0msd_b\u001b[0m \u001b[1;33m=\u001b[0m \u001b[0mnp\u001b[0m\u001b[1;33m.\u001b[0m\u001b[0msqrt\u001b[0m\u001b[1;33m(\u001b[0m\u001b[0mvar_b\u001b[0m\u001b[1;33m)\u001b[0m\u001b[1;33m\u001b[0m\u001b[1;33m\u001b[0m\u001b[0m\n\u001b[0;32m     11\u001b[0m     \u001b[0mt\u001b[0m \u001b[1;33m=\u001b[0m \u001b[0mb\u001b[0m \u001b[1;33m/\u001b[0m \u001b[0msd_b\u001b[0m\u001b[1;33m\u001b[0m\u001b[1;33m\u001b[0m\u001b[0m\n",
      "\u001b[1;32md:\\anaconda3\\lib\\site-packages\\numpy\\linalg\\linalg.py\u001b[0m in \u001b[0;36minv\u001b[1;34m(a)\u001b[0m\n\u001b[0;32m    549\u001b[0m     \u001b[0msignature\u001b[0m \u001b[1;33m=\u001b[0m \u001b[1;34m'D->D'\u001b[0m \u001b[1;32mif\u001b[0m \u001b[0misComplexType\u001b[0m\u001b[1;33m(\u001b[0m\u001b[0mt\u001b[0m\u001b[1;33m)\u001b[0m \u001b[1;32melse\u001b[0m \u001b[1;34m'd->d'\u001b[0m\u001b[1;33m\u001b[0m\u001b[1;33m\u001b[0m\u001b[0m\n\u001b[0;32m    550\u001b[0m     \u001b[0mextobj\u001b[0m \u001b[1;33m=\u001b[0m \u001b[0mget_linalg_error_extobj\u001b[0m\u001b[1;33m(\u001b[0m\u001b[0m_raise_linalgerror_singular\u001b[0m\u001b[1;33m)\u001b[0m\u001b[1;33m\u001b[0m\u001b[1;33m\u001b[0m\u001b[0m\n\u001b[1;32m--> 551\u001b[1;33m     \u001b[0mainv\u001b[0m \u001b[1;33m=\u001b[0m \u001b[0m_umath_linalg\u001b[0m\u001b[1;33m.\u001b[0m\u001b[0minv\u001b[0m\u001b[1;33m(\u001b[0m\u001b[0ma\u001b[0m\u001b[1;33m,\u001b[0m \u001b[0msignature\u001b[0m\u001b[1;33m=\u001b[0m\u001b[0msignature\u001b[0m\u001b[1;33m,\u001b[0m \u001b[0mextobj\u001b[0m\u001b[1;33m=\u001b[0m\u001b[0mextobj\u001b[0m\u001b[1;33m)\u001b[0m\u001b[1;33m\u001b[0m\u001b[1;33m\u001b[0m\u001b[0m\n\u001b[0m\u001b[0;32m    552\u001b[0m     \u001b[1;32mreturn\u001b[0m \u001b[0mwrap\u001b[0m\u001b[1;33m(\u001b[0m\u001b[0mainv\u001b[0m\u001b[1;33m.\u001b[0m\u001b[0mastype\u001b[0m\u001b[1;33m(\u001b[0m\u001b[0mresult_t\u001b[0m\u001b[1;33m,\u001b[0m \u001b[0mcopy\u001b[0m\u001b[1;33m=\u001b[0m\u001b[1;32mFalse\u001b[0m\u001b[1;33m)\u001b[0m\u001b[1;33m)\u001b[0m\u001b[1;33m\u001b[0m\u001b[1;33m\u001b[0m\u001b[0m\n\u001b[0;32m    553\u001b[0m \u001b[1;33m\u001b[0m\u001b[0m\n",
      "\u001b[1;32md:\\anaconda3\\lib\\site-packages\\numpy\\linalg\\linalg.py\u001b[0m in \u001b[0;36m_raise_linalgerror_singular\u001b[1;34m(err, flag)\u001b[0m\n\u001b[0;32m     95\u001b[0m \u001b[1;33m\u001b[0m\u001b[0m\n\u001b[0;32m     96\u001b[0m \u001b[1;32mdef\u001b[0m \u001b[0m_raise_linalgerror_singular\u001b[0m\u001b[1;33m(\u001b[0m\u001b[0merr\u001b[0m\u001b[1;33m,\u001b[0m \u001b[0mflag\u001b[0m\u001b[1;33m)\u001b[0m\u001b[1;33m:\u001b[0m\u001b[1;33m\u001b[0m\u001b[1;33m\u001b[0m\u001b[0m\n\u001b[1;32m---> 97\u001b[1;33m     \u001b[1;32mraise\u001b[0m \u001b[0mLinAlgError\u001b[0m\u001b[1;33m(\u001b[0m\u001b[1;34m\"Singular matrix\"\u001b[0m\u001b[1;33m)\u001b[0m\u001b[1;33m\u001b[0m\u001b[1;33m\u001b[0m\u001b[0m\n\u001b[0m\u001b[0;32m     98\u001b[0m \u001b[1;33m\u001b[0m\u001b[0m\n\u001b[0;32m     99\u001b[0m \u001b[1;32mdef\u001b[0m \u001b[0m_raise_linalgerror_nonposdef\u001b[0m\u001b[1;33m(\u001b[0m\u001b[0merr\u001b[0m\u001b[1;33m,\u001b[0m \u001b[0mflag\u001b[0m\u001b[1;33m)\u001b[0m\u001b[1;33m:\u001b[0m\u001b[1;33m\u001b[0m\u001b[1;33m\u001b[0m\u001b[0m\n",
      "\u001b[1;31mLinAlgError\u001b[0m: Singular matrix"
     ]
    }
   ],
   "source": [
    "from scipy import stats\n",
    "\n",
    "def regression_coef(model, X, y):\n",
    "    coef = pd.DataFrame(zip(['intercept'] + X.columns.tolist(), [model.intercept_] + model.coef_.tolist()),\n",
    "                    columns=['predictor', 'coef'])\n",
    "    X1 = np.append(np.ones((len(X),1)), X, axis=1)\n",
    "    b = np.append(model.intercept_, model.coef_)\n",
    "    MSE = np.sum((model.predict(X) - y) ** 2, axis=0) / float(X.shape[0] - X.shape[1])\n",
    "    var_b = MSE * (np.linalg.inv(np.dot(X1.T, X1)).diagonal())\n",
    "    sd_b = np.sqrt(var_b)\n",
    "    t = b / sd_b\n",
    "    coef['pvalue'] = [2 * (1 - stats.t.cdf(np.abs(i), (len(X1) - 1))) for i in t]\n",
    "    return coef\n",
    "regression_coef(model, X, y)"
   ]
  },
  {
   "cell_type": "code",
   "execution_count": 85,
   "metadata": {},
   "outputs": [],
   "source": [
    "import pandas as pd\n",
    "import numpy as np\n",
    "import matplotlib\n",
    "import matplotlib.pyplot as plt\n",
    "from scipy import stats\n",
    "matplotlib.style.use('ggplot')\n",
    "%matplotlib inline"
   ]
  },
  {
   "cell_type": "code",
   "execution_count": 86,
   "metadata": {},
   "outputs": [],
   "source": [
    "df_2=dt"
   ]
  },
  {
   "cell_type": "code",
   "execution_count": 87,
   "metadata": {},
   "outputs": [
    {
     "data": {
      "text/html": [
       "<div>\n",
       "<style scoped>\n",
       "    .dataframe tbody tr th:only-of-type {\n",
       "        vertical-align: middle;\n",
       "    }\n",
       "\n",
       "    .dataframe tbody tr th {\n",
       "        vertical-align: top;\n",
       "    }\n",
       "\n",
       "    .dataframe thead th {\n",
       "        text-align: right;\n",
       "    }\n",
       "</style>\n",
       "<table border=\"1\" class=\"dataframe\">\n",
       "  <thead>\n",
       "    <tr style=\"text-align: right;\">\n",
       "      <th></th>\n",
       "      <th>gender</th>\n",
       "      <th>age</th>\n",
       "      <th>education</th>\n",
       "      <th>x1</th>\n",
       "      <th>x2</th>\n",
       "      <th>x3</th>\n",
       "    </tr>\n",
       "  </thead>\n",
       "  <tbody>\n",
       "    <tr>\n",
       "      <th>count</th>\n",
       "      <td>1508.000000</td>\n",
       "      <td>1508.000000</td>\n",
       "      <td>1508.000000</td>\n",
       "      <td>1508.000000</td>\n",
       "      <td>1508.000000</td>\n",
       "      <td>1508.000000</td>\n",
       "    </tr>\n",
       "    <tr>\n",
       "      <th>mean</th>\n",
       "      <td>1.602122</td>\n",
       "      <td>18.266578</td>\n",
       "      <td>2.120690</td>\n",
       "      <td>0.280504</td>\n",
       "      <td>0.404509</td>\n",
       "      <td>0.300398</td>\n",
       "    </tr>\n",
       "    <tr>\n",
       "      <th>std</th>\n",
       "      <td>0.489622</td>\n",
       "      <td>3.490516</td>\n",
       "      <td>0.829945</td>\n",
       "      <td>0.449395</td>\n",
       "      <td>0.490960</td>\n",
       "      <td>0.458583</td>\n",
       "    </tr>\n",
       "    <tr>\n",
       "      <th>min</th>\n",
       "      <td>1.000000</td>\n",
       "      <td>14.000000</td>\n",
       "      <td>1.000000</td>\n",
       "      <td>0.000000</td>\n",
       "      <td>0.000000</td>\n",
       "      <td>0.000000</td>\n",
       "    </tr>\n",
       "    <tr>\n",
       "      <th>25%</th>\n",
       "      <td>1.000000</td>\n",
       "      <td>16.000000</td>\n",
       "      <td>1.000000</td>\n",
       "      <td>0.000000</td>\n",
       "      <td>0.000000</td>\n",
       "      <td>0.000000</td>\n",
       "    </tr>\n",
       "    <tr>\n",
       "      <th>50%</th>\n",
       "      <td>2.000000</td>\n",
       "      <td>17.000000</td>\n",
       "      <td>2.000000</td>\n",
       "      <td>0.000000</td>\n",
       "      <td>0.000000</td>\n",
       "      <td>0.000000</td>\n",
       "    </tr>\n",
       "    <tr>\n",
       "      <th>75%</th>\n",
       "      <td>2.000000</td>\n",
       "      <td>20.000000</td>\n",
       "      <td>3.000000</td>\n",
       "      <td>1.000000</td>\n",
       "      <td>1.000000</td>\n",
       "      <td>1.000000</td>\n",
       "    </tr>\n",
       "    <tr>\n",
       "      <th>max</th>\n",
       "      <td>2.000000</td>\n",
       "      <td>28.000000</td>\n",
       "      <td>3.000000</td>\n",
       "      <td>1.000000</td>\n",
       "      <td>1.000000</td>\n",
       "      <td>1.000000</td>\n",
       "    </tr>\n",
       "  </tbody>\n",
       "</table>\n",
       "</div>"
      ],
      "text/plain": [
       "            gender          age    education           x1           x2  \\\n",
       "count  1508.000000  1508.000000  1508.000000  1508.000000  1508.000000   \n",
       "mean      1.602122    18.266578     2.120690     0.280504     0.404509   \n",
       "std       0.489622     3.490516     0.829945     0.449395     0.490960   \n",
       "min       1.000000    14.000000     1.000000     0.000000     0.000000   \n",
       "25%       1.000000    16.000000     1.000000     0.000000     0.000000   \n",
       "50%       2.000000    17.000000     2.000000     0.000000     0.000000   \n",
       "75%       2.000000    20.000000     3.000000     1.000000     1.000000   \n",
       "max       2.000000    28.000000     3.000000     1.000000     1.000000   \n",
       "\n",
       "                x3  \n",
       "count  1508.000000  \n",
       "mean      0.300398  \n",
       "std       0.458583  \n",
       "min       0.000000  \n",
       "25%       0.000000  \n",
       "50%       0.000000  \n",
       "75%       1.000000  \n",
       "max       1.000000  "
      ]
     },
     "execution_count": 87,
     "metadata": {},
     "output_type": "execute_result"
    }
   ],
   "source": [
    "df_2.describe()"
   ]
  },
  {
   "cell_type": "code",
   "execution_count": 88,
   "metadata": {},
   "outputs": [
    {
     "data": {
      "image/png": "[encoded data removed]",
      "text/plain": [
       "<Figure size 432x288 with 36 Axes>"
      ]
     },
     "metadata": {
      "needs_background": "light"
     },
     "output_type": "display_data"
    }
   ],
   "source": [
    "from pandas.plotting import scatter_matrix\n",
    "scatter_matrix(df_2);"
   ]
  },
  {
   "cell_type": "code",
   "execution_count": 126,
   "metadata": {},
   "outputs": [],
   "source": [
    "import math\n",
    "from sklearn import preprocessing\n",
    "#  from sklearn.decomposition import PCA\n",
    "\n",
    "\n",
    "# Функция для стандартизации фич\n",
    "def scale_features(df):\n",
    "    scaled = preprocessing.StandardScaler().fit_transform(df)\n",
    "    scaled = pd.DataFrame(scaled, columns=df.columns)\n",
    "    return scaled\n"
   ]
  },
  {
   "cell_type": "code",
   "execution_count": 127,
   "metadata": {},
   "outputs": [
    {
     "name": "stderr",
     "output_type": "stream",
     "text": [
      "d:\\anaconda3\\lib\\site-packages\\ipykernel_launcher.py:3: DataConversionWarning: Data with input dtype int64 were all converted to float64 by the scale function.\n",
      "  This is separate from the ipykernel package so we can avoid doing imports until\n"
     ]
    },
    {
     "data": {
      "text/plain": [
       "FactorAnalysis(copy=True, iterated_power=3, max_iter=1000, n_components=3,\n",
       "        noise_variance_init=None, random_state=0, svd_method='randomized',\n",
       "        tol=0.01)"
      ]
     },
     "execution_count": 127,
     "metadata": {},
     "output_type": "execute_result"
    }
   ],
   "source": [
    "from sklearn.decomposition import FactorAnalysis\n",
    "\n",
    "df_scaled = preprocessing.scale(df_2)\n",
    "fa = FactorAnalysis(n_components=3)\n",
    "fa.fit(df_scaled)"
   ]
  },
  {
   "cell_type": "code",
   "execution_count": 128,
   "metadata": {},
   "outputs": [
    {
     "data": {
      "text/html": [
       "<div>\n",
       "<style scoped>\n",
       "    .dataframe tbody tr th:only-of-type {\n",
       "        vertical-align: middle;\n",
       "    }\n",
       "\n",
       "    .dataframe tbody tr th {\n",
       "        vertical-align: top;\n",
       "    }\n",
       "\n",
       "    .dataframe thead th {\n",
       "        text-align: right;\n",
       "    }\n",
       "</style>\n",
       "<table border=\"1\" class=\"dataframe\">\n",
       "  <thead>\n",
       "    <tr style=\"text-align: right;\">\n",
       "      <th></th>\n",
       "      <th>gender</th>\n",
       "      <th>age</th>\n",
       "      <th>education</th>\n",
       "      <th>x1</th>\n",
       "      <th>x2</th>\n",
       "      <th>x3</th>\n",
       "    </tr>\n",
       "  </thead>\n",
       "  <tbody>\n",
       "    <tr>\n",
       "      <th>0</th>\n",
       "      <td>0.184796</td>\n",
       "      <td>0.439971</td>\n",
       "      <td>0.490877</td>\n",
       "      <td>0.786899</td>\n",
       "      <td>-0.002624</td>\n",
       "      <td>-0.627554</td>\n",
       "    </tr>\n",
       "    <tr>\n",
       "      <th>1</th>\n",
       "      <td>0.055227</td>\n",
       "      <td>0.746002</td>\n",
       "      <td>0.691914</td>\n",
       "      <td>-0.290130</td>\n",
       "      <td>-0.058390</td>\n",
       "      <td>0.368682</td>\n",
       "    </tr>\n",
       "    <tr>\n",
       "      <th>2</th>\n",
       "      <td>-0.135920</td>\n",
       "      <td>0.037608</td>\n",
       "      <td>0.085995</td>\n",
       "      <td>-0.369839</td>\n",
       "      <td>0.499268</td>\n",
       "      <td>-0.519489</td>\n",
       "    </tr>\n",
       "  </tbody>\n",
       "</table>\n",
       "</div>"
      ],
      "text/plain": [
       "     gender       age  education        x1        x2        x3\n",
       "0  0.184796  0.439971   0.490877  0.786899 -0.002624 -0.627554\n",
       "1  0.055227  0.746002   0.691914 -0.290130 -0.058390  0.368682\n",
       "2 -0.135920  0.037608   0.085995 -0.369839  0.499268 -0.519489"
      ]
     },
     "execution_count": 128,
     "metadata": {},
     "output_type": "execute_result"
    }
   ],
   "source": [
    "pd.DataFrame(fa.components_, columns=df_2.columns)"
   ]
  },
  {
   "cell_type": "code",
   "execution_count": 129,
   "metadata": {},
   "outputs": [
    {
     "data": {
      "text/plain": [
       "array([0.94431605, 0.24850564, 0.27288449, 0.16026133, 0.74704951,\n",
       "       0.20086452])"
      ]
     },
     "execution_count": 129,
     "metadata": {},
     "output_type": "execute_result"
    }
   ],
   "source": [
    "fa.noise_variance_"
   ]
  },
  {
   "cell_type": "code",
   "execution_count": 130,
   "metadata": {},
   "outputs": [
    {
     "name": "stdout",
     "output_type": "stream",
     "text": [
      "Uniqueness:\n"
     ]
    },
    {
     "ename": "ValueError",
     "evalue": "Length of passed values is 6, index implies 8",
     "output_type": "error",
     "traceback": [
      "\u001b[1;31m---------------------------------------------------------------------------\u001b[0m",
      "\u001b[1;31mValueError\u001b[0m                                Traceback (most recent call last)",
      "\u001b[1;32m<ipython-input-130-ed96985ec3da>\u001b[0m in \u001b[0;36m<module>\u001b[1;34m\u001b[0m\n\u001b[0;32m      1\u001b[0m \u001b[0mprint\u001b[0m\u001b[1;33m(\u001b[0m\u001b[1;34m'Uniqueness:'\u001b[0m\u001b[1;33m)\u001b[0m\u001b[1;33m\u001b[0m\u001b[1;33m\u001b[0m\u001b[0m\n\u001b[1;32m----> 2\u001b[1;33m \u001b[0mpd\u001b[0m\u001b[1;33m.\u001b[0m\u001b[0mSeries\u001b[0m\u001b[1;33m(\u001b[0m\u001b[0mfa\u001b[0m\u001b[1;33m.\u001b[0m\u001b[0mnoise_variance_\u001b[0m\u001b[1;33m,\u001b[0m \u001b[0mdf\u001b[0m\u001b[1;33m.\u001b[0m\u001b[0mcolumns\u001b[0m\u001b[1;33m)\u001b[0m\u001b[1;33m\u001b[0m\u001b[1;33m\u001b[0m\u001b[0m\n\u001b[0m",
      "\u001b[1;32md:\\anaconda3\\lib\\site-packages\\pandas\\core\\series.py\u001b[0m in \u001b[0;36m__init__\u001b[1;34m(self, data, index, dtype, name, copy, fastpath)\u001b[0m\n\u001b[0;32m    247\u001b[0m                             \u001b[1;34m'Length of passed values is {val}, '\u001b[0m\u001b[1;33m\u001b[0m\u001b[1;33m\u001b[0m\u001b[0m\n\u001b[0;32m    248\u001b[0m                             \u001b[1;34m'index implies {ind}'\u001b[0m\u001b[1;33m\u001b[0m\u001b[1;33m\u001b[0m\u001b[0m\n\u001b[1;32m--> 249\u001b[1;33m                             .format(val=len(data), ind=len(index)))\n\u001b[0m\u001b[0;32m    250\u001b[0m                 \u001b[1;32mexcept\u001b[0m \u001b[0mTypeError\u001b[0m\u001b[1;33m:\u001b[0m\u001b[1;33m\u001b[0m\u001b[1;33m\u001b[0m\u001b[0m\n\u001b[0;32m    251\u001b[0m                     \u001b[1;32mpass\u001b[0m\u001b[1;33m\u001b[0m\u001b[1;33m\u001b[0m\u001b[0m\n",
      "\u001b[1;31mValueError\u001b[0m: Length of passed values is 6, index implies 8"
     ]
    }
   ],
   "source": [
    "print('Uniqueness:')\n",
    "pd.Series(fa.noise_variance_, df.columns)"
   ]
  },
  {
   "cell_type": "code",
   "execution_count": 316,
   "metadata": {},
   "outputs": [
    {
     "name": "stderr",
     "output_type": "stream",
     "text": [
      "d:\\anaconda3\\lib\\site-packages\\ipykernel_launcher.py:11: DataConversionWarning: Data with input dtype int64 were all converted to float64 by the scale function.\n",
      "  # This is added back by InteractiveShellApp.init_path()\n",
      "d:\\anaconda3\\lib\\site-packages\\ipykernel_launcher.py:15: DataConversionWarning: Data with input dtype int64 were all converted to float64 by the scale function.\n",
      "  from ipykernel import kernelapp as app\n"
     ]
    },
    {
     "data": {
      "text/html": [
       "<div>\n",
       "<style scoped>\n",
       "    .dataframe tbody tr th:only-of-type {\n",
       "        vertical-align: middle;\n",
       "    }\n",
       "\n",
       "    .dataframe tbody tr th {\n",
       "        vertical-align: top;\n",
       "    }\n",
       "\n",
       "    .dataframe thead th {\n",
       "        text-align: right;\n",
       "    }\n",
       "</style>\n",
       "<table border=\"1\" class=\"dataframe\">\n",
       "  <thead>\n",
       "    <tr style=\"text-align: right;\">\n",
       "      <th></th>\n",
       "      <th>gender</th>\n",
       "      <th>age</th>\n",
       "      <th>education</th>\n",
       "      <th>x1</th>\n",
       "      <th>x2</th>\n",
       "      <th>x3</th>\n",
       "    </tr>\n",
       "  </thead>\n",
       "  <tbody>\n",
       "    <tr>\n",
       "      <th>0</th>\n",
       "      <td>2</td>\n",
       "      <td>23</td>\n",
       "      <td>3</td>\n",
       "      <td>1</td>\n",
       "      <td>0</td>\n",
       "      <td>0</td>\n",
       "    </tr>\n",
       "    <tr>\n",
       "      <th>1</th>\n",
       "      <td>2</td>\n",
       "      <td>23</td>\n",
       "      <td>3</td>\n",
       "      <td>1</td>\n",
       "      <td>0</td>\n",
       "      <td>0</td>\n",
       "    </tr>\n",
       "    <tr>\n",
       "      <th>2</th>\n",
       "      <td>1</td>\n",
       "      <td>18</td>\n",
       "      <td>2</td>\n",
       "      <td>0</td>\n",
       "      <td>0</td>\n",
       "      <td>0</td>\n",
       "    </tr>\n",
       "    <tr>\n",
       "      <th>3</th>\n",
       "      <td>2</td>\n",
       "      <td>18</td>\n",
       "      <td>2</td>\n",
       "      <td>1</td>\n",
       "      <td>0</td>\n",
       "      <td>0</td>\n",
       "    </tr>\n",
       "    <tr>\n",
       "      <th>4</th>\n",
       "      <td>2</td>\n",
       "      <td>19</td>\n",
       "      <td>2</td>\n",
       "      <td>0</td>\n",
       "      <td>0</td>\n",
       "      <td>0</td>\n",
       "    </tr>\n",
       "    <tr>\n",
       "      <th>5</th>\n",
       "      <td>1</td>\n",
       "      <td>17</td>\n",
       "      <td>2</td>\n",
       "      <td>0</td>\n",
       "      <td>1</td>\n",
       "      <td>0</td>\n",
       "    </tr>\n",
       "    <tr>\n",
       "      <th>6</th>\n",
       "      <td>1</td>\n",
       "      <td>17</td>\n",
       "      <td>2</td>\n",
       "      <td>0</td>\n",
       "      <td>0</td>\n",
       "      <td>0</td>\n",
       "    </tr>\n",
       "    <tr>\n",
       "      <th>7</th>\n",
       "      <td>1</td>\n",
       "      <td>19</td>\n",
       "      <td>2</td>\n",
       "      <td>1</td>\n",
       "      <td>0</td>\n",
       "      <td>0</td>\n",
       "    </tr>\n",
       "    <tr>\n",
       "      <th>8</th>\n",
       "      <td>1</td>\n",
       "      <td>18</td>\n",
       "      <td>2</td>\n",
       "      <td>0</td>\n",
       "      <td>0</td>\n",
       "      <td>0</td>\n",
       "    </tr>\n",
       "    <tr>\n",
       "      <th>9</th>\n",
       "      <td>1</td>\n",
       "      <td>18</td>\n",
       "      <td>2</td>\n",
       "      <td>1</td>\n",
       "      <td>0</td>\n",
       "      <td>0</td>\n",
       "    </tr>\n",
       "    <tr>\n",
       "      <th>10</th>\n",
       "      <td>1</td>\n",
       "      <td>18</td>\n",
       "      <td>2</td>\n",
       "      <td>0</td>\n",
       "      <td>1</td>\n",
       "      <td>0</td>\n",
       "    </tr>\n",
       "    <tr>\n",
       "      <th>11</th>\n",
       "      <td>2</td>\n",
       "      <td>21</td>\n",
       "      <td>2</td>\n",
       "      <td>0</td>\n",
       "      <td>0</td>\n",
       "      <td>0</td>\n",
       "    </tr>\n",
       "    <tr>\n",
       "      <th>12</th>\n",
       "      <td>1</td>\n",
       "      <td>16</td>\n",
       "      <td>2</td>\n",
       "      <td>0</td>\n",
       "      <td>0</td>\n",
       "      <td>1</td>\n",
       "    </tr>\n",
       "    <tr>\n",
       "      <th>13</th>\n",
       "      <td>1</td>\n",
       "      <td>16</td>\n",
       "      <td>2</td>\n",
       "      <td>0</td>\n",
       "      <td>0</td>\n",
       "      <td>1</td>\n",
       "    </tr>\n",
       "    <tr>\n",
       "      <th>14</th>\n",
       "      <td>1</td>\n",
       "      <td>17</td>\n",
       "      <td>2</td>\n",
       "      <td>0</td>\n",
       "      <td>1</td>\n",
       "      <td>1</td>\n",
       "    </tr>\n",
       "    <tr>\n",
       "      <th>15</th>\n",
       "      <td>1</td>\n",
       "      <td>18</td>\n",
       "      <td>3</td>\n",
       "      <td>0</td>\n",
       "      <td>1</td>\n",
       "      <td>0</td>\n",
       "    </tr>\n",
       "    <tr>\n",
       "      <th>16</th>\n",
       "      <td>1</td>\n",
       "      <td>19</td>\n",
       "      <td>3</td>\n",
       "      <td>0</td>\n",
       "      <td>0</td>\n",
       "      <td>1</td>\n",
       "    </tr>\n",
       "    <tr>\n",
       "      <th>17</th>\n",
       "      <td>1</td>\n",
       "      <td>18</td>\n",
       "      <td>2</td>\n",
       "      <td>0</td>\n",
       "      <td>0</td>\n",
       "      <td>1</td>\n",
       "    </tr>\n",
       "    <tr>\n",
       "      <th>18</th>\n",
       "      <td>2</td>\n",
       "      <td>16</td>\n",
       "      <td>2</td>\n",
       "      <td>0</td>\n",
       "      <td>0</td>\n",
       "      <td>1</td>\n",
       "    </tr>\n",
       "    <tr>\n",
       "      <th>19</th>\n",
       "      <td>2</td>\n",
       "      <td>17</td>\n",
       "      <td>2</td>\n",
       "      <td>1</td>\n",
       "      <td>0</td>\n",
       "      <td>0</td>\n",
       "    </tr>\n",
       "    <tr>\n",
       "      <th>20</th>\n",
       "      <td>2</td>\n",
       "      <td>18</td>\n",
       "      <td>3</td>\n",
       "      <td>1</td>\n",
       "      <td>1</td>\n",
       "      <td>0</td>\n",
       "    </tr>\n",
       "    <tr>\n",
       "      <th>21</th>\n",
       "      <td>2</td>\n",
       "      <td>18</td>\n",
       "      <td>3</td>\n",
       "      <td>0</td>\n",
       "      <td>1</td>\n",
       "      <td>0</td>\n",
       "    </tr>\n",
       "    <tr>\n",
       "      <th>22</th>\n",
       "      <td>2</td>\n",
       "      <td>23</td>\n",
       "      <td>3</td>\n",
       "      <td>0</td>\n",
       "      <td>1</td>\n",
       "      <td>0</td>\n",
       "    </tr>\n",
       "    <tr>\n",
       "      <th>23</th>\n",
       "      <td>2</td>\n",
       "      <td>23</td>\n",
       "      <td>3</td>\n",
       "      <td>0</td>\n",
       "      <td>0</td>\n",
       "      <td>0</td>\n",
       "    </tr>\n",
       "    <tr>\n",
       "      <th>24</th>\n",
       "      <td>2</td>\n",
       "      <td>19</td>\n",
       "      <td>2</td>\n",
       "      <td>1</td>\n",
       "      <td>0</td>\n",
       "      <td>0</td>\n",
       "    </tr>\n",
       "    <tr>\n",
       "      <th>25</th>\n",
       "      <td>1</td>\n",
       "      <td>17</td>\n",
       "      <td>3</td>\n",
       "      <td>1</td>\n",
       "      <td>0</td>\n",
       "      <td>0</td>\n",
       "    </tr>\n",
       "    <tr>\n",
       "      <th>26</th>\n",
       "      <td>1</td>\n",
       "      <td>17</td>\n",
       "      <td>2</td>\n",
       "      <td>0</td>\n",
       "      <td>0</td>\n",
       "      <td>0</td>\n",
       "    </tr>\n",
       "    <tr>\n",
       "      <th>27</th>\n",
       "      <td>1</td>\n",
       "      <td>17</td>\n",
       "      <td>2</td>\n",
       "      <td>0</td>\n",
       "      <td>0</td>\n",
       "      <td>0</td>\n",
       "    </tr>\n",
       "    <tr>\n",
       "      <th>28</th>\n",
       "      <td>1</td>\n",
       "      <td>17</td>\n",
       "      <td>2</td>\n",
       "      <td>0</td>\n",
       "      <td>0</td>\n",
       "      <td>1</td>\n",
       "    </tr>\n",
       "    <tr>\n",
       "      <th>29</th>\n",
       "      <td>1</td>\n",
       "      <td>17</td>\n",
       "      <td>2</td>\n",
       "      <td>0</td>\n",
       "      <td>1</td>\n",
       "      <td>0</td>\n",
       "    </tr>\n",
       "    <tr>\n",
       "      <th>...</th>\n",
       "      <td>...</td>\n",
       "      <td>...</td>\n",
       "      <td>...</td>\n",
       "      <td>...</td>\n",
       "      <td>...</td>\n",
       "      <td>...</td>\n",
       "    </tr>\n",
       "    <tr>\n",
       "      <th>1478</th>\n",
       "      <td>2</td>\n",
       "      <td>25</td>\n",
       "      <td>3</td>\n",
       "      <td>0</td>\n",
       "      <td>1</td>\n",
       "      <td>0</td>\n",
       "    </tr>\n",
       "    <tr>\n",
       "      <th>1479</th>\n",
       "      <td>2</td>\n",
       "      <td>26</td>\n",
       "      <td>3</td>\n",
       "      <td>0</td>\n",
       "      <td>0</td>\n",
       "      <td>1</td>\n",
       "    </tr>\n",
       "    <tr>\n",
       "      <th>1480</th>\n",
       "      <td>1</td>\n",
       "      <td>25</td>\n",
       "      <td>3</td>\n",
       "      <td>1</td>\n",
       "      <td>1</td>\n",
       "      <td>0</td>\n",
       "    </tr>\n",
       "    <tr>\n",
       "      <th>1481</th>\n",
       "      <td>2</td>\n",
       "      <td>25</td>\n",
       "      <td>3</td>\n",
       "      <td>1</td>\n",
       "      <td>0</td>\n",
       "      <td>0</td>\n",
       "    </tr>\n",
       "    <tr>\n",
       "      <th>1482</th>\n",
       "      <td>2</td>\n",
       "      <td>25</td>\n",
       "      <td>3</td>\n",
       "      <td>1</td>\n",
       "      <td>1</td>\n",
       "      <td>0</td>\n",
       "    </tr>\n",
       "    <tr>\n",
       "      <th>1483</th>\n",
       "      <td>2</td>\n",
       "      <td>27</td>\n",
       "      <td>3</td>\n",
       "      <td>0</td>\n",
       "      <td>1</td>\n",
       "      <td>1</td>\n",
       "    </tr>\n",
       "    <tr>\n",
       "      <th>1484</th>\n",
       "      <td>2</td>\n",
       "      <td>25</td>\n",
       "      <td>3</td>\n",
       "      <td>0</td>\n",
       "      <td>0</td>\n",
       "      <td>1</td>\n",
       "    </tr>\n",
       "    <tr>\n",
       "      <th>1485</th>\n",
       "      <td>2</td>\n",
       "      <td>28</td>\n",
       "      <td>3</td>\n",
       "      <td>0</td>\n",
       "      <td>0</td>\n",
       "      <td>1</td>\n",
       "    </tr>\n",
       "    <tr>\n",
       "      <th>1486</th>\n",
       "      <td>2</td>\n",
       "      <td>23</td>\n",
       "      <td>3</td>\n",
       "      <td>1</td>\n",
       "      <td>1</td>\n",
       "      <td>0</td>\n",
       "    </tr>\n",
       "    <tr>\n",
       "      <th>1487</th>\n",
       "      <td>1</td>\n",
       "      <td>25</td>\n",
       "      <td>3</td>\n",
       "      <td>0</td>\n",
       "      <td>1</td>\n",
       "      <td>0</td>\n",
       "    </tr>\n",
       "    <tr>\n",
       "      <th>1488</th>\n",
       "      <td>1</td>\n",
       "      <td>27</td>\n",
       "      <td>3</td>\n",
       "      <td>0</td>\n",
       "      <td>1</td>\n",
       "      <td>0</td>\n",
       "    </tr>\n",
       "    <tr>\n",
       "      <th>1489</th>\n",
       "      <td>1</td>\n",
       "      <td>27</td>\n",
       "      <td>3</td>\n",
       "      <td>1</td>\n",
       "      <td>0</td>\n",
       "      <td>0</td>\n",
       "    </tr>\n",
       "    <tr>\n",
       "      <th>1490</th>\n",
       "      <td>1</td>\n",
       "      <td>25</td>\n",
       "      <td>3</td>\n",
       "      <td>1</td>\n",
       "      <td>0</td>\n",
       "      <td>0</td>\n",
       "    </tr>\n",
       "    <tr>\n",
       "      <th>1491</th>\n",
       "      <td>1</td>\n",
       "      <td>27</td>\n",
       "      <td>3</td>\n",
       "      <td>0</td>\n",
       "      <td>0</td>\n",
       "      <td>1</td>\n",
       "    </tr>\n",
       "    <tr>\n",
       "      <th>1492</th>\n",
       "      <td>1</td>\n",
       "      <td>26</td>\n",
       "      <td>3</td>\n",
       "      <td>0</td>\n",
       "      <td>1</td>\n",
       "      <td>0</td>\n",
       "    </tr>\n",
       "    <tr>\n",
       "      <th>1493</th>\n",
       "      <td>1</td>\n",
       "      <td>23</td>\n",
       "      <td>3</td>\n",
       "      <td>0</td>\n",
       "      <td>0</td>\n",
       "      <td>1</td>\n",
       "    </tr>\n",
       "    <tr>\n",
       "      <th>1494</th>\n",
       "      <td>2</td>\n",
       "      <td>25</td>\n",
       "      <td>3</td>\n",
       "      <td>0</td>\n",
       "      <td>1</td>\n",
       "      <td>0</td>\n",
       "    </tr>\n",
       "    <tr>\n",
       "      <th>1495</th>\n",
       "      <td>1</td>\n",
       "      <td>25</td>\n",
       "      <td>3</td>\n",
       "      <td>0</td>\n",
       "      <td>0</td>\n",
       "      <td>1</td>\n",
       "    </tr>\n",
       "    <tr>\n",
       "      <th>1496</th>\n",
       "      <td>1</td>\n",
       "      <td>26</td>\n",
       "      <td>3</td>\n",
       "      <td>0</td>\n",
       "      <td>0</td>\n",
       "      <td>1</td>\n",
       "    </tr>\n",
       "    <tr>\n",
       "      <th>1497</th>\n",
       "      <td>2</td>\n",
       "      <td>26</td>\n",
       "      <td>3</td>\n",
       "      <td>1</td>\n",
       "      <td>0</td>\n",
       "      <td>0</td>\n",
       "    </tr>\n",
       "    <tr>\n",
       "      <th>1498</th>\n",
       "      <td>1</td>\n",
       "      <td>26</td>\n",
       "      <td>3</td>\n",
       "      <td>0</td>\n",
       "      <td>0</td>\n",
       "      <td>0</td>\n",
       "    </tr>\n",
       "    <tr>\n",
       "      <th>1499</th>\n",
       "      <td>2</td>\n",
       "      <td>26</td>\n",
       "      <td>3</td>\n",
       "      <td>0</td>\n",
       "      <td>0</td>\n",
       "      <td>1</td>\n",
       "    </tr>\n",
       "    <tr>\n",
       "      <th>1500</th>\n",
       "      <td>2</td>\n",
       "      <td>26</td>\n",
       "      <td>3</td>\n",
       "      <td>0</td>\n",
       "      <td>0</td>\n",
       "      <td>1</td>\n",
       "    </tr>\n",
       "    <tr>\n",
       "      <th>1501</th>\n",
       "      <td>2</td>\n",
       "      <td>26</td>\n",
       "      <td>3</td>\n",
       "      <td>0</td>\n",
       "      <td>0</td>\n",
       "      <td>0</td>\n",
       "    </tr>\n",
       "    <tr>\n",
       "      <th>1502</th>\n",
       "      <td>2</td>\n",
       "      <td>26</td>\n",
       "      <td>3</td>\n",
       "      <td>0</td>\n",
       "      <td>0</td>\n",
       "      <td>1</td>\n",
       "    </tr>\n",
       "    <tr>\n",
       "      <th>1503</th>\n",
       "      <td>2</td>\n",
       "      <td>26</td>\n",
       "      <td>3</td>\n",
       "      <td>0</td>\n",
       "      <td>1</td>\n",
       "      <td>0</td>\n",
       "    </tr>\n",
       "    <tr>\n",
       "      <th>1504</th>\n",
       "      <td>2</td>\n",
       "      <td>26</td>\n",
       "      <td>3</td>\n",
       "      <td>0</td>\n",
       "      <td>0</td>\n",
       "      <td>1</td>\n",
       "    </tr>\n",
       "    <tr>\n",
       "      <th>1505</th>\n",
       "      <td>2</td>\n",
       "      <td>26</td>\n",
       "      <td>3</td>\n",
       "      <td>0</td>\n",
       "      <td>0</td>\n",
       "      <td>1</td>\n",
       "    </tr>\n",
       "    <tr>\n",
       "      <th>1506</th>\n",
       "      <td>2</td>\n",
       "      <td>26</td>\n",
       "      <td>3</td>\n",
       "      <td>0</td>\n",
       "      <td>0</td>\n",
       "      <td>1</td>\n",
       "    </tr>\n",
       "    <tr>\n",
       "      <th>1507</th>\n",
       "      <td>1</td>\n",
       "      <td>26</td>\n",
       "      <td>3</td>\n",
       "      <td>0</td>\n",
       "      <td>1</td>\n",
       "      <td>0</td>\n",
       "    </tr>\n",
       "  </tbody>\n",
       "</table>\n",
       "<p>1508 rows × 6 columns</p>\n",
       "</div>"
      ],
      "text/plain": [
       "      gender  age  education  x1  x2  x3\n",
       "0          2   23          3   1   0   0\n",
       "1          2   23          3   1   0   0\n",
       "2          1   18          2   0   0   0\n",
       "3          2   18          2   1   0   0\n",
       "4          2   19          2   0   0   0\n",
       "5          1   17          2   0   1   0\n",
       "6          1   17          2   0   0   0\n",
       "7          1   19          2   1   0   0\n",
       "8          1   18          2   0   0   0\n",
       "9          1   18          2   1   0   0\n",
       "10         1   18          2   0   1   0\n",
       "11         2   21          2   0   0   0\n",
       "12         1   16          2   0   0   1\n",
       "13         1   16          2   0   0   1\n",
       "14         1   17          2   0   1   1\n",
       "15         1   18          3   0   1   0\n",
       "16         1   19          3   0   0   1\n",
       "17         1   18          2   0   0   1\n",
       "18         2   16          2   0   0   1\n",
       "19         2   17          2   1   0   0\n",
       "20         2   18          3   1   1   0\n",
       "21         2   18          3   0   1   0\n",
       "22         2   23          3   0   1   0\n",
       "23         2   23          3   0   0   0\n",
       "24         2   19          2   1   0   0\n",
       "25         1   17          3   1   0   0\n",
       "26         1   17          2   0   0   0\n",
       "27         1   17          2   0   0   0\n",
       "28         1   17          2   0   0   1\n",
       "29         1   17          2   0   1   0\n",
       "...      ...  ...        ...  ..  ..  ..\n",
       "1478       2   25          3   0   1   0\n",
       "1479       2   26          3   0   0   1\n",
       "1480       1   25          3   1   1   0\n",
       "1481       2   25          3   1   0   0\n",
       "1482       2   25          3   1   1   0\n",
       "1483       2   27          3   0   1   1\n",
       "1484       2   25          3   0   0   1\n",
       "1485       2   28          3   0   0   1\n",
       "1486       2   23          3   1   1   0\n",
       "1487       1   25          3   0   1   0\n",
       "1488       1   27          3   0   1   0\n",
       "1489       1   27          3   1   0   0\n",
       "1490       1   25          3   1   0   0\n",
       "1491       1   27          3   0   0   1\n",
       "1492       1   26          3   0   1   0\n",
       "1493       1   23          3   0   0   1\n",
       "1494       2   25          3   0   1   0\n",
       "1495       1   25          3   0   0   1\n",
       "1496       1   26          3   0   0   1\n",
       "1497       2   26          3   1   0   0\n",
       "1498       1   26          3   0   0   0\n",
       "1499       2   26          3   0   0   1\n",
       "1500       2   26          3   0   0   1\n",
       "1501       2   26          3   0   0   0\n",
       "1502       2   26          3   0   0   1\n",
       "1503       2   26          3   0   1   0\n",
       "1504       2   26          3   0   0   1\n",
       "1505       2   26          3   0   0   1\n",
       "1506       2   26          3   0   0   1\n",
       "1507       1   26          3   0   1   0\n",
       "\n",
       "[1508 rows x 6 columns]"
      ]
     },
     "execution_count": 316,
     "metadata": {},
     "output_type": "execute_result"
    }
   ],
   "source": [
    "import math\n",
    "from sklearn import preprocessing\n",
    "#  from sklearn.decomposition import PCA\n",
    "\n",
    "\n",
    "# Функция для стандартизации фич\n",
    "def scale_features(df):\n",
    "    scaled = preprocessing.StandardScaler().fit_transform(df)\n",
    "    scaled = pd.DataFrame(scaled, columns=df.columns)\n",
    "    return scaled\n",
    "df_scaled = preprocessing.scale(data)\n",
    "#df_scaled = preprocessing.scale(data)\n",
    "\n",
    "dta=data\n",
    "df_scaled1 = preprocessing.scale(data.drop(['x1', 'x2', 'x3', 'gender'], axis=1))\n",
    "dt=data.drop(['x1', 'x2', 'x3', 'gender'], axis=1)\n",
    "df"
   ]
  },
  {
   "cell_type": "code",
   "execution_count": 317,
   "metadata": {},
   "outputs": [],
   "source": [
    "from sklearn.decomposition import PCA"
   ]
  },
  {
   "cell_type": "markdown",
   "metadata": {},
   "source": [
    "pca = PCA(n_components=4)\n",
    "pca.fit(df_scaled1)\n",
    "print(pca.explained_variance_ratio_)"
   ]
  },
  {
   "cell_type": "code",
   "execution_count": 319,
   "metadata": {},
   "outputs": [
    {
     "name": "stdout",
     "output_type": "stream",
     "text": [
      "[0.31399497 0.22694016 0.19505492]\n"
     ]
    }
   ],
   "source": [
    "pca = PCA(n_components=3)\n",
    "pca.fit(df_scaled)\n",
    "print(pca.explained_variance_ratio_)\n"
   ]
  },
  {
   "cell_type": "markdown",
   "metadata": {},
   "source": [
    "from sklearn.decomposition import FactorAnalysis\n",
    "\n",
    "fa = FactorAnalysis(n_components=2)\n",
    "fa.fit(df_scaled1)\n"
   ]
  },
  {
   "cell_type": "code",
   "execution_count": 320,
   "metadata": {},
   "outputs": [
    {
     "data": {
      "text/html": [
       "<div>\n",
       "<style scoped>\n",
       "    .dataframe tbody tr th:only-of-type {\n",
       "        vertical-align: middle;\n",
       "    }\n",
       "\n",
       "    .dataframe tbody tr th {\n",
       "        vertical-align: top;\n",
       "    }\n",
       "\n",
       "    .dataframe thead th {\n",
       "        text-align: right;\n",
       "    }\n",
       "</style>\n",
       "<table border=\"1\" class=\"dataframe\">\n",
       "  <thead>\n",
       "    <tr style=\"text-align: right;\">\n",
       "      <th></th>\n",
       "      <th>age</th>\n",
       "      <th>education</th>\n",
       "    </tr>\n",
       "  </thead>\n",
       "  <tbody>\n",
       "    <tr>\n",
       "      <th>0</th>\n",
       "      <td>0.85734</td>\n",
       "      <td>0.85734</td>\n",
       "    </tr>\n",
       "  </tbody>\n",
       "</table>\n",
       "</div>"
      ],
      "text/plain": [
       "       age  education\n",
       "0  0.85734    0.85734"
      ]
     },
     "execution_count": 320,
     "metadata": {},
     "output_type": "execute_result"
    }
   ],
   "source": [
    "from sklearn.decomposition import FactorAnalysis\n",
    "\n",
    "fa = FactorAnalysis(n_components=1)\n",
    "fa.fit(df_scaled1)\n",
    "#print (dt)\n",
    "pd.DataFrame(fa.components_, columns=dt.columns)\n"
   ]
  },
  {
   "cell_type": "code",
   "execution_count": 323,
   "metadata": {},
   "outputs": [
    {
     "data": {
      "text/plain": [
       "FactorAnalysis(copy=True, iterated_power=3, max_iter=1000, n_components=3,\n",
       "        noise_variance_init=None, random_state=0, svd_method='randomized',\n",
       "        tol=0.01)"
      ]
     },
     "execution_count": 323,
     "metadata": {},
     "output_type": "execute_result"
    }
   ],
   "source": [
    "from sklearn.decomposition import FactorAnalysis\n",
    "\n",
    "fa1 = FactorAnalysis(n_components=3)\n",
    "fa1.fit(df_scaled)"
   ]
  },
  {
   "cell_type": "code",
   "execution_count": 324,
   "metadata": {},
   "outputs": [
    {
     "data": {
      "text/html": [
       "<div>\n",
       "<style scoped>\n",
       "    .dataframe tbody tr th:only-of-type {\n",
       "        vertical-align: middle;\n",
       "    }\n",
       "\n",
       "    .dataframe tbody tr th {\n",
       "        vertical-align: top;\n",
       "    }\n",
       "\n",
       "    .dataframe thead th {\n",
       "        text-align: right;\n",
       "    }\n",
       "</style>\n",
       "<table border=\"1\" class=\"dataframe\">\n",
       "  <thead>\n",
       "    <tr style=\"text-align: right;\">\n",
       "      <th></th>\n",
       "      <th>gender</th>\n",
       "      <th>age</th>\n",
       "      <th>education</th>\n",
       "      <th>x1</th>\n",
       "      <th>x2</th>\n",
       "      <th>x3</th>\n",
       "    </tr>\n",
       "  </thead>\n",
       "  <tbody>\n",
       "    <tr>\n",
       "      <th>0</th>\n",
       "      <td>0.184796</td>\n",
       "      <td>0.439971</td>\n",
       "      <td>0.490877</td>\n",
       "      <td>0.786899</td>\n",
       "      <td>-0.002624</td>\n",
       "      <td>-0.627554</td>\n",
       "    </tr>\n",
       "    <tr>\n",
       "      <th>1</th>\n",
       "      <td>0.055227</td>\n",
       "      <td>0.746002</td>\n",
       "      <td>0.691914</td>\n",
       "      <td>-0.290130</td>\n",
       "      <td>-0.058390</td>\n",
       "      <td>0.368682</td>\n",
       "    </tr>\n",
       "    <tr>\n",
       "      <th>2</th>\n",
       "      <td>-0.135920</td>\n",
       "      <td>0.037608</td>\n",
       "      <td>0.085995</td>\n",
       "      <td>-0.369839</td>\n",
       "      <td>0.499268</td>\n",
       "      <td>-0.519489</td>\n",
       "    </tr>\n",
       "  </tbody>\n",
       "</table>\n",
       "</div>"
      ],
      "text/plain": [
       "     gender       age  education        x1        x2        x3\n",
       "0  0.184796  0.439971   0.490877  0.786899 -0.002624 -0.627554\n",
       "1  0.055227  0.746002   0.691914 -0.290130 -0.058390  0.368682\n",
       "2 -0.135920  0.037608   0.085995 -0.369839  0.499268 -0.519489"
      ]
     },
     "execution_count": 324,
     "metadata": {},
     "output_type": "execute_result"
    }
   ],
   "source": [
    "dta=data\n",
    "pd.DataFrame(fa1.components_, columns=dta.columns)"
   ]
  },
  {
   "cell_type": "code",
   "execution_count": 325,
   "metadata": {},
   "outputs": [
    {
     "name": "stdout",
     "output_type": "stream",
     "text": [
      "Uniqueness:\n"
     ]
    },
    {
     "data": {
      "text/plain": [
       "age          0.265327\n",
       "education    0.265327\n",
       "dtype: float64"
      ]
     },
     "execution_count": 325,
     "metadata": {},
     "output_type": "execute_result"
    }
   ],
   "source": [
    "print('Uniqueness:')\n",
    "pd.Series(fa.noise_variance_, dt.columns)"
   ]
  },
  {
   "cell_type": "code",
   "execution_count": 326,
   "metadata": {},
   "outputs": [
    {
     "name": "stdout",
     "output_type": "stream",
     "text": [
      "Uniqueness:\n"
     ]
    },
    {
     "data": {
      "text/plain": [
       "gender       0.944316\n",
       "age          0.248506\n",
       "education    0.272884\n",
       "x1           0.160261\n",
       "x2           0.747050\n",
       "x3           0.200865\n",
       "dtype: float64"
      ]
     },
     "execution_count": 326,
     "metadata": {},
     "output_type": "execute_result"
    }
   ],
   "source": [
    "print('Uniqueness:')\n",
    "pd.Series(fa1.noise_variance_, dta.columns)"
   ]
  },
  {
   "cell_type": "code",
   "execution_count": 327,
   "metadata": {},
   "outputs": [
    {
     "data": {
      "text/html": [
       "<div>\n",
       "<style scoped>\n",
       "    .dataframe tbody tr th:only-of-type {\n",
       "        vertical-align: middle;\n",
       "    }\n",
       "\n",
       "    .dataframe tbody tr th {\n",
       "        vertical-align: top;\n",
       "    }\n",
       "\n",
       "    .dataframe thead th {\n",
       "        text-align: right;\n",
       "    }\n",
       "</style>\n",
       "<table border=\"1\" class=\"dataframe\">\n",
       "  <thead>\n",
       "    <tr style=\"text-align: right;\">\n",
       "      <th></th>\n",
       "      <th>factor1</th>\n",
       "    </tr>\n",
       "  </thead>\n",
       "  <tbody>\n",
       "    <tr>\n",
       "      <th>0</th>\n",
       "      <td>1.193762</td>\n",
       "    </tr>\n",
       "    <tr>\n",
       "      <th>1</th>\n",
       "      <td>1.193762</td>\n",
       "    </tr>\n",
       "    <tr>\n",
       "      <th>2</th>\n",
       "      <td>-0.109608</td>\n",
       "    </tr>\n",
       "    <tr>\n",
       "      <th>3</th>\n",
       "      <td>-0.109608</td>\n",
       "    </tr>\n",
       "    <tr>\n",
       "      <th>4</th>\n",
       "      <td>0.031974</td>\n",
       "    </tr>\n",
       "  </tbody>\n",
       "</table>\n",
       "</div>"
      ],
      "text/plain": [
       "    factor1\n",
       "0  1.193762\n",
       "1  1.193762\n",
       "2 -0.109608\n",
       "3 -0.109608\n",
       "4  0.031974"
      ]
     },
     "execution_count": 327,
     "metadata": {},
     "output_type": "execute_result"
    }
   ],
   "source": [
    "#print (df_scaled)\n",
    "scores = pd.DataFrame(fa.transform(df_scaled1), columns=['factor1'])\n",
    "scores.head()\n",
    "#print (df_scaled)\n",
    "#print (dt)"
   ]
  },
  {
   "cell_type": "code",
   "execution_count": 328,
   "metadata": {},
   "outputs": [
    {
     "name": "stdout",
     "output_type": "stream",
     "text": [
      "<class 'pandas.core.frame.DataFrame'>\n",
      "(1508, 1)\n",
      "(1508, 6)\n"
     ]
    },
    {
     "name": "stderr",
     "output_type": "stream",
     "text": [
      "d:\\anaconda3\\lib\\site-packages\\ipykernel_launcher.py:4: FutureWarning: Sorting because non-concatenation axis is not aligned. A future version\n",
      "of pandas will change to not sort by default.\n",
      "\n",
      "To accept the future behavior, pass 'sort=False'.\n",
      "\n",
      "To retain the current behavior and silence the warning, pass 'sort=True'.\n",
      "\n",
      "  after removing the cwd from sys.path.\n"
     ]
    }
   ],
   "source": [
    "print (type(scores))\n",
    "print (scores.shape)\n",
    "print (data.shape)\n",
    "sc=pd.concat ([data, scores])\n",
    "T1 = pd.merge(data, scores, on=data.index, how='outer')\n",
    "T1=T1.drop(['key_0'], axis=1)"
   ]
  },
  {
   "cell_type": "code",
   "execution_count": 315,
   "metadata": {},
   "outputs": [
    {
     "name": "stdout",
     "output_type": "stream",
     "text": [
      "             gender       age  education        x1        x2        x3  \\\n",
      "gender     1.000000  0.116073   0.118249  0.184874 -0.022896 -0.017027   \n",
      "age        0.116073  1.000000   0.735391  0.116433 -0.021147 -0.019799   \n",
      "education  0.118249  0.735391   1.000000  0.152914 -0.005896 -0.098808   \n",
      "x1         0.184874  0.116433   0.152914  1.000000 -0.171754 -0.409146   \n",
      "x2        -0.022896 -0.021147  -0.005896 -0.171754  1.000000 -0.280708   \n",
      "x3        -0.017027 -0.019799  -0.098808 -0.409146 -0.280708  1.000000   \n",
      "factor1    0.125776  0.931502   0.931502  0.144577 -0.014516 -0.063664   \n",
      "\n",
      "            factor1  \n",
      "gender     0.125776  \n",
      "age        0.931502  \n",
      "education  0.931502  \n",
      "x1         0.144577  \n",
      "x2        -0.014516  \n",
      "x3        -0.063664  \n",
      "factor1    1.000000  \n"
     ]
    }
   ],
   "source": [
    "print (T1.corr())"
   ]
  },
  {
   "cell_type": "code",
   "execution_count": 229,
   "metadata": {},
   "outputs": [
    {
     "name": "stdout",
     "output_type": "stream",
     "text": [
      "[[ 1.60156543 -0.82418888 -0.6552739 ]\n",
      " [ 1.60156543 -0.82418888 -0.6552739 ]\n",
      " [-0.6243891  -0.82418888 -0.6552739 ]\n",
      " ...\n",
      " [-0.6243891  -0.82418888  1.5260794 ]\n",
      " [-0.6243891  -0.82418888  1.5260794 ]\n",
      " [-0.6243891   1.21331412 -0.6552739 ]]\n"
     ]
    }
   ],
   "source": [
    "print (df_scaled)"
   ]
  },
  {
   "cell_type": "code",
   "execution_count": 289,
   "metadata": {},
   "outputs": [],
   "source": [
    "mat = T1.values.T\n",
    "K = len(T1.columns)\n",
    "correl = np.empty((K,K), dtype=float)\n",
    "p_vals = np.empty((K,K), dtype=float)\n",
    "\n",
    "for i, ac in enumerate(mat):\n",
    "    for j, bc in enumerate(mat):\n",
    "        if i > j:\n",
    "            continue\n",
    "        else:\n",
    "            corr = stats.pearsonr(ac, bc)\n",
    "            #corr = stats.kendalltau(ac, bc)\n",
    "\n",
    "        correl[i,j] = corr[0]\n",
    "        correl[j,i] = corr[0]\n",
    "        p_vals[i,j] = corr[1]\n",
    "        p_vals[j,i] = corr[1]\n",
    "\n",
    "df_p = pd.DataFrame(p_vals)\n",
    "df_corr = pd.DataFrame(correl)"
   ]
  },
  {
   "cell_type": "code",
   "execution_count": 290,
   "metadata": {},
   "outputs": [
    {
     "name": "stdout",
     "output_type": "stream",
     "text": [
      "          0         1         2         3         4         5         6\n",
      "0  1.000000  0.116073  0.118249  0.184874 -0.022896 -0.017027 -0.027092\n",
      "1  0.116073  1.000000  0.735391  0.116433 -0.021147 -0.019799 -0.030468\n",
      "2  0.118249  0.735391  1.000000  0.152914 -0.005896 -0.098808 -0.083349\n",
      "3  0.184874  0.116433  0.152914  1.000000 -0.171754 -0.409146 -0.456459\n",
      "4 -0.022896 -0.021147 -0.005896 -0.171754  1.000000 -0.280708  0.601813\n",
      "5 -0.017027 -0.019799 -0.098808 -0.409146 -0.280708  1.000000  0.596996\n",
      "6 -0.027092 -0.030468 -0.083349 -0.456459  0.601813  0.596996  1.000000\n",
      "              0              1              2             3              4  \\\n",
      "0  0.000000e+00   6.213473e-06   4.138244e-06  4.631345e-13   3.742651e-01   \n",
      "1  6.213473e-06   0.000000e+00  8.586254e-257  5.811767e-06   4.118712e-01   \n",
      "2  4.138244e-06  8.586254e-257   0.000000e+00  2.397259e-09   8.190362e-01   \n",
      "3  4.631345e-13   5.811767e-06   2.397259e-09  0.000000e+00   1.892007e-11   \n",
      "4  3.742651e-01   4.118712e-01   8.190362e-01  1.892007e-11   0.000000e+00   \n",
      "5  5.088111e-01   4.423141e-01   1.214274e-04  6.139481e-62   1.049531e-28   \n",
      "6  2.930843e-01   2.370279e-01   1.196814e-03  1.761937e-78  2.958945e-149   \n",
      "\n",
      "               5              6  \n",
      "0   5.088111e-01   2.930843e-01  \n",
      "1   4.423141e-01   2.370279e-01  \n",
      "2   1.214274e-04   1.196814e-03  \n",
      "3   6.139481e-62   1.761937e-78  \n",
      "4   1.049531e-28  2.958945e-149  \n",
      "5   0.000000e+00  2.645275e-146  \n",
      "6  2.645275e-146   0.000000e+00  \n"
     ]
    }
   ],
   "source": [
    "p=pd.concat([df_corr, df_p], keys=['corr', 'p_val'])\n",
    "\n",
    "print (df_corr)\n",
    "print (df_p)\n",
    "#print (p)"
   ]
  },
  {
   "cell_type": "code",
   "execution_count": 330,
   "metadata": {},
   "outputs": [
    {
     "data": {
      "text/html": [
       "<div>\n",
       "<style scoped>\n",
       "    .dataframe tbody tr th:only-of-type {\n",
       "        vertical-align: middle;\n",
       "    }\n",
       "\n",
       "    .dataframe tbody tr th {\n",
       "        vertical-align: top;\n",
       "    }\n",
       "\n",
       "    .dataframe thead th {\n",
       "        text-align: right;\n",
       "    }\n",
       "</style>\n",
       "<table border=\"1\" class=\"dataframe\">\n",
       "  <thead>\n",
       "    <tr style=\"text-align: right;\">\n",
       "      <th></th>\n",
       "      <th>factor1</th>\n",
       "      <th>factor2</th>\n",
       "      <th>factor3</th>\n",
       "    </tr>\n",
       "  </thead>\n",
       "  <tbody>\n",
       "    <tr>\n",
       "      <th>0</th>\n",
       "      <td>1.687436</td>\n",
       "      <td>0.446405</td>\n",
       "      <td>-0.594411</td>\n",
       "    </tr>\n",
       "    <tr>\n",
       "      <th>1</th>\n",
       "      <td>1.687436</td>\n",
       "      <td>0.446405</td>\n",
       "      <td>-0.594411</td>\n",
       "    </tr>\n",
       "    <tr>\n",
       "      <th>2</th>\n",
       "      <td>-0.193996</td>\n",
       "      <td>-0.109304</td>\n",
       "      <td>0.754796</td>\n",
       "    </tr>\n",
       "    <tr>\n",
       "      <th>3</th>\n",
       "      <td>1.135359</td>\n",
       "      <td>-0.739631</td>\n",
       "      <td>-0.760941</td>\n",
       "    </tr>\n",
       "    <tr>\n",
       "      <th>4</th>\n",
       "      <td>-0.087548</td>\n",
       "      <td>0.048637</td>\n",
       "      <td>0.684828</td>\n",
       "    </tr>\n",
       "  </tbody>\n",
       "</table>\n",
       "</div>"
      ],
      "text/plain": [
       "    factor1   factor2   factor3\n",
       "0  1.687436  0.446405 -0.594411\n",
       "1  1.687436  0.446405 -0.594411\n",
       "2 -0.193996 -0.109304  0.754796\n",
       "3  1.135359 -0.739631 -0.760941\n",
       "4 -0.087548  0.048637  0.684828"
      ]
     },
     "execution_count": 330,
     "metadata": {},
     "output_type": "execute_result"
    }
   ],
   "source": [
    "scores1 = pd.DataFrame(fa1.transform(df_scaled), columns=['factor1', 'factor2', 'factor3'])\n",
    "scores1.head()"
   ]
  },
  {
   "cell_type": "code",
   "execution_count": 331,
   "metadata": {},
   "outputs": [
    {
     "data": {
      "text/html": [
       "<div>\n",
       "<style scoped>\n",
       "    .dataframe tbody tr th:only-of-type {\n",
       "        vertical-align: middle;\n",
       "    }\n",
       "\n",
       "    .dataframe tbody tr th {\n",
       "        vertical-align: top;\n",
       "    }\n",
       "\n",
       "    .dataframe thead th {\n",
       "        text-align: right;\n",
       "    }\n",
       "</style>\n",
       "<table border=\"1\" class=\"dataframe\">\n",
       "  <thead>\n",
       "    <tr style=\"text-align: right;\">\n",
       "      <th></th>\n",
       "      <th>factor1</th>\n",
       "      <th>factor2</th>\n",
       "      <th>factor3</th>\n",
       "    </tr>\n",
       "  </thead>\n",
       "  <tbody>\n",
       "    <tr>\n",
       "      <th>factor1</th>\n",
       "      <td>1.000000e+00</td>\n",
       "      <td>-9.639095e-14</td>\n",
       "      <td>-8.461165e-14</td>\n",
       "    </tr>\n",
       "    <tr>\n",
       "      <th>factor2</th>\n",
       "      <td>-9.639095e-14</td>\n",
       "      <td>1.000000e+00</td>\n",
       "      <td>3.096902e-14</td>\n",
       "    </tr>\n",
       "    <tr>\n",
       "      <th>factor3</th>\n",
       "      <td>-8.461165e-14</td>\n",
       "      <td>3.096902e-14</td>\n",
       "      <td>1.000000e+00</td>\n",
       "    </tr>\n",
       "  </tbody>\n",
       "</table>\n",
       "</div>"
      ],
      "text/plain": [
       "              factor1       factor2       factor3\n",
       "factor1  1.000000e+00 -9.639095e-14 -8.461165e-14\n",
       "factor2 -9.639095e-14  1.000000e+00  3.096902e-14\n",
       "factor3 -8.461165e-14  3.096902e-14  1.000000e+00"
      ]
     },
     "execution_count": 331,
     "metadata": {},
     "output_type": "execute_result"
    }
   ],
   "source": [
    "scores1.corr()"
   ]
  },
  {
   "cell_type": "code",
   "execution_count": 332,
   "metadata": {},
   "outputs": [
    {
     "name": "stdout",
     "output_type": "stream",
     "text": [
      "Rows in the data frame: 1508\n",
      "Rows without NAN: 1508\n"
     ]
    }
   ],
   "source": [
    "print ('Rows in the data frame: {0}'.format(len(data)))\n",
    "print ('Rows without NAN: {0}'.format(len(data.dropna(how='any'))))"
   ]
  },
  {
   "cell_type": "code",
   "execution_count": 333,
   "metadata": {},
   "outputs": [],
   "source": [
    "from sklearn.linear_model import LinearRegression"
   ]
  },
  {
   "cell_type": "code",
   "execution_count": 337,
   "metadata": {},
   "outputs": [
    {
     "name": "stdout",
     "output_type": "stream",
     "text": [
      "<class 'pandas.core.frame.DataFrame'>\n",
      "(1508,)\n"
     ]
    }
   ],
   "source": [
    "x = data.drop(['x1', 'x2', 'x3'], axis=1)\n",
    "y1 = data['x1']\n",
    "y2 = data['x2']\n",
    "y3 = data['x3']\n",
    "print (type(x))\n",
    "print (y1.shape)\n",
    "#print (X)\n",
    "#print (y1)"
   ]
  },
  {
   "cell_type": "code",
   "execution_count": 339,
   "metadata": {},
   "outputs": [
    {
     "data": {
      "text/plain": [
       "LinearRegression(copy_X=True, fit_intercept=True, n_jobs=None,\n",
       "         normalize=False)"
      ]
     },
     "execution_count": 339,
     "metadata": {},
     "output_type": "execute_result"
    }
   ],
   "source": [
    "model1 = LinearRegression()\n",
    "model1.fit(x, y1)\n",
    "model2 = LinearRegression()\n",
    "model2.fit(x, y2)\n",
    "model3 = LinearRegression()\n",
    "model3.fit(x, y3)"
   ]
  },
  {
   "cell_type": "code",
   "execution_count": 340,
   "metadata": {},
   "outputs": [
    {
     "name": "stdout",
     "output_type": "stream",
     "text": [
      "R^2: 0.05159860395100191\n",
      "R^2: -0.1155335270000779\n",
      "R^2: -0.08303249595777573\n"
     ]
    }
   ],
   "source": [
    "print ('R^2: {0}'.format(model.score(x, y1)))\n",
    "print ('R^2: {0}'.format(model.score(x, y2)))\n",
    "print ('R^2: {0}'.format(model.score(x, y3)))"
   ]
  },
  {
   "cell_type": "code",
   "execution_count": 343,
   "metadata": {},
   "outputs": [
    {
     "data": {
      "text/html": [
       "<div>\n",
       "<style scoped>\n",
       "    .dataframe tbody tr th:only-of-type {\n",
       "        vertical-align: middle;\n",
       "    }\n",
       "\n",
       "    .dataframe tbody tr th {\n",
       "        vertical-align: top;\n",
       "    }\n",
       "\n",
       "    .dataframe thead th {\n",
       "        text-align: right;\n",
       "    }\n",
       "</style>\n",
       "<table border=\"1\" class=\"dataframe\">\n",
       "  <thead>\n",
       "    <tr style=\"text-align: right;\">\n",
       "      <th></th>\n",
       "      <th>predictor</th>\n",
       "      <th>coef</th>\n",
       "    </tr>\n",
       "  </thead>\n",
       "  <tbody>\n",
       "    <tr>\n",
       "      <th>0</th>\n",
       "      <td>intercept</td>\n",
       "      <td>-0.117842</td>\n",
       "    </tr>\n",
       "    <tr>\n",
       "      <th>1</th>\n",
       "      <td>gender</td>\n",
       "      <td>0.155315</td>\n",
       "    </tr>\n",
       "    <tr>\n",
       "      <th>2</th>\n",
       "      <td>age</td>\n",
       "      <td>-0.000265</td>\n",
       "    </tr>\n",
       "    <tr>\n",
       "      <th>3</th>\n",
       "      <td>education</td>\n",
       "      <td>0.072783</td>\n",
       "    </tr>\n",
       "  </tbody>\n",
       "</table>\n",
       "</div>"
      ],
      "text/plain": [
       "   predictor      coef\n",
       "0  intercept -0.117842\n",
       "1     gender  0.155315\n",
       "2        age -0.000265\n",
       "3  education  0.072783"
      ]
     },
     "execution_count": 343,
     "metadata": {},
     "output_type": "execute_result"
    }
   ],
   "source": [
    "coef1 = pd.DataFrame(zip(['intercept'] + x.columns.tolist(), [model1.intercept_] + model1.coef_.tolist()),\n",
    "                    columns=['predictor', 'coef'])\n",
    "coef1\n",
    "\n",
    "\n"
   ]
  },
  {
   "cell_type": "code",
   "execution_count": 344,
   "metadata": {},
   "outputs": [
    {
     "data": {
      "text/html": [
       "<div>\n",
       "<style scoped>\n",
       "    .dataframe tbody tr th:only-of-type {\n",
       "        vertical-align: middle;\n",
       "    }\n",
       "\n",
       "    .dataframe tbody tr th {\n",
       "        vertical-align: top;\n",
       "    }\n",
       "\n",
       "    .dataframe thead th {\n",
       "        text-align: right;\n",
       "    }\n",
       "</style>\n",
       "<table border=\"1\" class=\"dataframe\">\n",
       "  <thead>\n",
       "    <tr style=\"text-align: right;\">\n",
       "      <th></th>\n",
       "      <th>predictor</th>\n",
       "      <th>coef</th>\n",
       "    </tr>\n",
       "  </thead>\n",
       "  <tbody>\n",
       "    <tr>\n",
       "      <th>0</th>\n",
       "      <td>intercept</td>\n",
       "      <td>0.501261</td>\n",
       "    </tr>\n",
       "    <tr>\n",
       "      <th>1</th>\n",
       "      <td>gender</td>\n",
       "      <td>-0.021532</td>\n",
       "    </tr>\n",
       "    <tr>\n",
       "      <th>2</th>\n",
       "      <td>age</td>\n",
       "      <td>-0.004958</td>\n",
       "    </tr>\n",
       "    <tr>\n",
       "      <th>3</th>\n",
       "      <td>education</td>\n",
       "      <td>0.013348</td>\n",
       "    </tr>\n",
       "  </tbody>\n",
       "</table>\n",
       "</div>"
      ],
      "text/plain": [
       "   predictor      coef\n",
       "0  intercept  0.501261\n",
       "1     gender -0.021532\n",
       "2        age -0.004958\n",
       "3  education  0.013348"
      ]
     },
     "execution_count": 344,
     "metadata": {},
     "output_type": "execute_result"
    }
   ],
   "source": [
    "coef2 = pd.DataFrame(zip(['intercept'] + x.columns.tolist(), [model2.intercept_] + model2.coef_.tolist()),\n",
    "                    columns=['predictor', 'coef'])\n",
    "coef2\n",
    "\n"
   ]
  },
  {
   "cell_type": "code",
   "execution_count": 345,
   "metadata": {},
   "outputs": [
    {
     "data": {
      "text/html": [
       "<div>\n",
       "<style scoped>\n",
       "    .dataframe tbody tr th:only-of-type {\n",
       "        vertical-align: middle;\n",
       "    }\n",
       "\n",
       "    .dataframe tbody tr th {\n",
       "        vertical-align: top;\n",
       "    }\n",
       "\n",
       "    .dataframe thead th {\n",
       "        text-align: right;\n",
       "    }\n",
       "</style>\n",
       "<table border=\"1\" class=\"dataframe\">\n",
       "  <thead>\n",
       "    <tr style=\"text-align: right;\">\n",
       "      <th></th>\n",
       "      <th>predictor</th>\n",
       "      <th>coef</th>\n",
       "    </tr>\n",
       "  </thead>\n",
       "  <tbody>\n",
       "    <tr>\n",
       "      <th>0</th>\n",
       "      <td>intercept</td>\n",
       "      <td>0.250277</td>\n",
       "    </tr>\n",
       "    <tr>\n",
       "      <th>1</th>\n",
       "      <td>gender</td>\n",
       "      <td>-0.008274</td>\n",
       "    </tr>\n",
       "    <tr>\n",
       "      <th>2</th>\n",
       "      <td>age</td>\n",
       "      <td>0.015198</td>\n",
       "    </tr>\n",
       "    <tr>\n",
       "      <th>3</th>\n",
       "      <td>education</td>\n",
       "      <td>-0.101024</td>\n",
       "    </tr>\n",
       "  </tbody>\n",
       "</table>\n",
       "</div>"
      ],
      "text/plain": [
       "   predictor      coef\n",
       "0  intercept  0.250277\n",
       "1     gender -0.008274\n",
       "2        age  0.015198\n",
       "3  education -0.101024"
      ]
     },
     "execution_count": 345,
     "metadata": {},
     "output_type": "execute_result"
    }
   ],
   "source": [
    "\n",
    "\n",
    "coef3 = pd.DataFrame(zip(['intercept'] + x.columns.tolist(), [model3.intercept_] + model3.coef_.tolist()),\n",
    "                    columns=['predictor', 'coef'])\n",
    "coef3"
   ]
  },
  {
   "cell_type": "code",
   "execution_count": 346,
   "metadata": {},
   "outputs": [
    {
     "data": {
      "text/html": [
       "<div>\n",
       "<style scoped>\n",
       "    .dataframe tbody tr th:only-of-type {\n",
       "        vertical-align: middle;\n",
       "    }\n",
       "\n",
       "    .dataframe tbody tr th {\n",
       "        vertical-align: top;\n",
       "    }\n",
       "\n",
       "    .dataframe thead th {\n",
       "        text-align: right;\n",
       "    }\n",
       "</style>\n",
       "<table border=\"1\" class=\"dataframe\">\n",
       "  <thead>\n",
       "    <tr style=\"text-align: right;\">\n",
       "      <th></th>\n",
       "      <th>predictor</th>\n",
       "      <th>coef</th>\n",
       "      <th>pvalue</th>\n",
       "    </tr>\n",
       "  </thead>\n",
       "  <tbody>\n",
       "    <tr>\n",
       "      <th>0</th>\n",
       "      <td>intercept</td>\n",
       "      <td>-0.117842</td>\n",
       "      <td>9.777758e-02</td>\n",
       "    </tr>\n",
       "    <tr>\n",
       "      <th>1</th>\n",
       "      <td>gender</td>\n",
       "      <td>0.155315</td>\n",
       "      <td>3.192313e-11</td>\n",
       "    </tr>\n",
       "    <tr>\n",
       "      <th>2</th>\n",
       "      <td>age</td>\n",
       "      <td>-0.000265</td>\n",
       "      <td>9.557576e-01</td>\n",
       "    </tr>\n",
       "    <tr>\n",
       "      <th>3</th>\n",
       "      <td>education</td>\n",
       "      <td>0.072783</td>\n",
       "      <td>2.995256e-04</td>\n",
       "    </tr>\n",
       "  </tbody>\n",
       "</table>\n",
       "</div>"
      ],
      "text/plain": [
       "   predictor      coef        pvalue\n",
       "0  intercept -0.117842  9.777758e-02\n",
       "1     gender  0.155315  3.192313e-11\n",
       "2        age -0.000265  9.557576e-01\n",
       "3  education  0.072783  2.995256e-04"
      ]
     },
     "execution_count": 346,
     "metadata": {},
     "output_type": "execute_result"
    }
   ],
   "source": [
    "from scipy import stats\n",
    "\n",
    "def regression_coef(model, X, y):\n",
    "    coef = pd.DataFrame(zip(['intercept'] + X.columns.tolist(), [model.intercept_] + model.coef_.tolist()),\n",
    "                    columns=['predictor', 'coef'])\n",
    "    X1 = np.append(np.ones((len(X),1)), X, axis=1)\n",
    "    b = np.append(model.intercept_, model.coef_)\n",
    "    MSE = np.sum((model.predict(X) - y) ** 2, axis=0) / float(X.shape[0] - X.shape[1])\n",
    "    var_b = MSE * (np.linalg.inv(np.dot(X1.T, X1)).diagonal())\n",
    "    sd_b = np.sqrt(var_b)\n",
    "    t = b / sd_b\n",
    "    coef['pvalue'] = [2 * (1 - stats.t.cdf(np.abs(i), (len(X1) - 1))) for i in t]\n",
    "    return coef\n",
    "regression_coef(model1, x, y1)"
   ]
  },
  {
   "cell_type": "code",
   "execution_count": 347,
   "metadata": {},
   "outputs": [
    {
     "data": {
      "text/html": [
       "<div>\n",
       "<style scoped>\n",
       "    .dataframe tbody tr th:only-of-type {\n",
       "        vertical-align: middle;\n",
       "    }\n",
       "\n",
       "    .dataframe tbody tr th {\n",
       "        vertical-align: top;\n",
       "    }\n",
       "\n",
       "    .dataframe thead th {\n",
       "        text-align: right;\n",
       "    }\n",
       "</style>\n",
       "<table border=\"1\" class=\"dataframe\">\n",
       "  <thead>\n",
       "    <tr style=\"text-align: right;\">\n",
       "      <th></th>\n",
       "      <th>predictor</th>\n",
       "      <th>coef</th>\n",
       "      <th>pvalue</th>\n",
       "    </tr>\n",
       "  </thead>\n",
       "  <tbody>\n",
       "    <tr>\n",
       "      <th>0</th>\n",
       "      <td>intercept</td>\n",
       "      <td>0.501261</td>\n",
       "      <td>4.269285e-10</td>\n",
       "    </tr>\n",
       "    <tr>\n",
       "      <th>1</th>\n",
       "      <td>gender</td>\n",
       "      <td>-0.021532</td>\n",
       "      <td>4.084384e-01</td>\n",
       "    </tr>\n",
       "    <tr>\n",
       "      <th>2</th>\n",
       "      <td>age</td>\n",
       "      <td>-0.004958</td>\n",
       "      <td>3.544650e-01</td>\n",
       "    </tr>\n",
       "    <tr>\n",
       "      <th>3</th>\n",
       "      <td>education</td>\n",
       "      <td>0.013348</td>\n",
       "      <td>5.534172e-01</td>\n",
       "    </tr>\n",
       "  </tbody>\n",
       "</table>\n",
       "</div>"
      ],
      "text/plain": [
       "   predictor      coef        pvalue\n",
       "0  intercept  0.501261  4.269285e-10\n",
       "1     gender -0.021532  4.084384e-01\n",
       "2        age -0.004958  3.544650e-01\n",
       "3  education  0.013348  5.534172e-01"
      ]
     },
     "execution_count": 347,
     "metadata": {},
     "output_type": "execute_result"
    }
   ],
   "source": [
    "regression_coef(model2, x, y2)"
   ]
  },
  {
   "cell_type": "code",
   "execution_count": 348,
   "metadata": {},
   "outputs": [
    {
     "data": {
      "text/html": [
       "<div>\n",
       "<style scoped>\n",
       "    .dataframe tbody tr th:only-of-type {\n",
       "        vertical-align: middle;\n",
       "    }\n",
       "\n",
       "    .dataframe tbody tr th {\n",
       "        vertical-align: top;\n",
       "    }\n",
       "\n",
       "    .dataframe thead th {\n",
       "        text-align: right;\n",
       "    }\n",
       "</style>\n",
       "<table border=\"1\" class=\"dataframe\">\n",
       "  <thead>\n",
       "    <tr style=\"text-align: right;\">\n",
       "      <th></th>\n",
       "      <th>predictor</th>\n",
       "      <th>coef</th>\n",
       "      <th>pvalue</th>\n",
       "    </tr>\n",
       "  </thead>\n",
       "  <tbody>\n",
       "    <tr>\n",
       "      <th>0</th>\n",
       "      <td>intercept</td>\n",
       "      <td>0.250277</td>\n",
       "      <td>0.000730</td>\n",
       "    </tr>\n",
       "    <tr>\n",
       "      <th>1</th>\n",
       "      <td>gender</td>\n",
       "      <td>-0.008274</td>\n",
       "      <td>0.731853</td>\n",
       "    </tr>\n",
       "    <tr>\n",
       "      <th>2</th>\n",
       "      <td>age</td>\n",
       "      <td>0.015198</td>\n",
       "      <td>0.002232</td>\n",
       "    </tr>\n",
       "    <tr>\n",
       "      <th>3</th>\n",
       "      <td>education</td>\n",
       "      <td>-0.101024</td>\n",
       "      <td>0.000001</td>\n",
       "    </tr>\n",
       "  </tbody>\n",
       "</table>\n",
       "</div>"
      ],
      "text/plain": [
       "   predictor      coef    pvalue\n",
       "0  intercept  0.250277  0.000730\n",
       "1     gender -0.008274  0.731853\n",
       "2        age  0.015198  0.002232\n",
       "3  education -0.101024  0.000001"
      ]
     },
     "execution_count": 348,
     "metadata": {},
     "output_type": "execute_result"
    }
   ],
   "source": [
    "regression_coef(model3, x, y3)"
   ]
  },
  {
   "cell_type": "code",
   "execution_count": 349,
   "metadata": {},
   "outputs": [
    {
     "data": {
      "text/html": [
       "<div>\n",
       "<style scoped>\n",
       "    .dataframe tbody tr th:only-of-type {\n",
       "        vertical-align: middle;\n",
       "    }\n",
       "\n",
       "    .dataframe tbody tr th {\n",
       "        vertical-align: top;\n",
       "    }\n",
       "\n",
       "    .dataframe thead th {\n",
       "        text-align: right;\n",
       "    }\n",
       "</style>\n",
       "<table border=\"1\" class=\"dataframe\">\n",
       "  <thead>\n",
       "    <tr style=\"text-align: right;\">\n",
       "      <th></th>\n",
       "      <th>gender</th>\n",
       "      <th>age</th>\n",
       "      <th>education</th>\n",
       "    </tr>\n",
       "  </thead>\n",
       "  <tbody>\n",
       "    <tr>\n",
       "      <th>gender</th>\n",
       "      <td>1.000000</td>\n",
       "      <td>0.116073</td>\n",
       "      <td>0.118249</td>\n",
       "    </tr>\n",
       "    <tr>\n",
       "      <th>age</th>\n",
       "      <td>0.116073</td>\n",
       "      <td>1.000000</td>\n",
       "      <td>0.735391</td>\n",
       "    </tr>\n",
       "    <tr>\n",
       "      <th>education</th>\n",
       "      <td>0.118249</td>\n",
       "      <td>0.735391</td>\n",
       "      <td>1.000000</td>\n",
       "    </tr>\n",
       "  </tbody>\n",
       "</table>\n",
       "</div>"
      ],
      "text/plain": [
       "             gender       age  education\n",
       "gender     1.000000  0.116073   0.118249\n",
       "age        0.116073  1.000000   0.735391\n",
       "education  0.118249  0.735391   1.000000"
      ]
     },
     "execution_count": 349,
     "metadata": {},
     "output_type": "execute_result"
    }
   ],
   "source": [
    "x.corr()"
   ]
  },
  {
   "cell_type": "code",
   "execution_count": 354,
   "metadata": {},
   "outputs": [
    {
     "name": "stdout",
     "output_type": "stream",
     "text": [
      "0.05159666376597838\n"
     ]
    },
    {
     "data": {
      "text/html": [
       "<div>\n",
       "<style scoped>\n",
       "    .dataframe tbody tr th:only-of-type {\n",
       "        vertical-align: middle;\n",
       "    }\n",
       "\n",
       "    .dataframe tbody tr th {\n",
       "        vertical-align: top;\n",
       "    }\n",
       "\n",
       "    .dataframe thead th {\n",
       "        text-align: right;\n",
       "    }\n",
       "</style>\n",
       "<table border=\"1\" class=\"dataframe\">\n",
       "  <thead>\n",
       "    <tr style=\"text-align: right;\">\n",
       "      <th></th>\n",
       "      <th>predictor</th>\n",
       "      <th>coef</th>\n",
       "      <th>pvalue</th>\n",
       "    </tr>\n",
       "  </thead>\n",
       "  <tbody>\n",
       "    <tr>\n",
       "      <th>0</th>\n",
       "      <td>intercept</td>\n",
       "      <td>-0.120862</td>\n",
       "      <td>8.366105e-03</td>\n",
       "    </tr>\n",
       "    <tr>\n",
       "      <th>1</th>\n",
       "      <td>gender</td>\n",
       "      <td>0.155259</td>\n",
       "      <td>3.066059e-11</td>\n",
       "    </tr>\n",
       "    <tr>\n",
       "      <th>2</th>\n",
       "      <td>education</td>\n",
       "      <td>0.071968</td>\n",
       "      <td>1.654858e-07</td>\n",
       "    </tr>\n",
       "  </tbody>\n",
       "</table>\n",
       "</div>"
      ],
      "text/plain": [
       "   predictor      coef        pvalue\n",
       "0  intercept -0.120862  8.366105e-03\n",
       "1     gender  0.155259  3.066059e-11\n",
       "2  education  0.071968  1.654858e-07"
      ]
     },
     "execution_count": 354,
     "metadata": {},
     "output_type": "execute_result"
    }
   ],
   "source": [
    "x1=x[['gender', 'education']]\n",
    "x2=x[['gender', 'age']]\n",
    "model1.fit(x1, y1)\n",
    "print (model1.score(x1, y1))\n",
    "regression_coef(model1, x1, y1)"
   ]
  },
  {
   "cell_type": "code",
   "execution_count": 351,
   "metadata": {},
   "outputs": [
    {
     "name": "stdout",
     "output_type": "stream",
     "text": [
      "0.0005345559356139118\n"
     ]
    },
    {
     "data": {
      "text/html": [
       "<div>\n",
       "<style scoped>\n",
       "    .dataframe tbody tr th:only-of-type {\n",
       "        vertical-align: middle;\n",
       "    }\n",
       "\n",
       "    .dataframe tbody tr th {\n",
       "        vertical-align: top;\n",
       "    }\n",
       "\n",
       "    .dataframe thead th {\n",
       "        text-align: right;\n",
       "    }\n",
       "</style>\n",
       "<table border=\"1\" class=\"dataframe\">\n",
       "  <thead>\n",
       "    <tr style=\"text-align: right;\">\n",
       "      <th></th>\n",
       "      <th>predictor</th>\n",
       "      <th>coef</th>\n",
       "      <th>pvalue</th>\n",
       "    </tr>\n",
       "  </thead>\n",
       "  <tbody>\n",
       "    <tr>\n",
       "      <th>0</th>\n",
       "      <td>intercept</td>\n",
       "      <td>0.444735</td>\n",
       "      <td>0.000000</td>\n",
       "    </tr>\n",
       "    <tr>\n",
       "      <th>1</th>\n",
       "      <td>gender</td>\n",
       "      <td>-0.022575</td>\n",
       "      <td>0.385639</td>\n",
       "    </tr>\n",
       "    <tr>\n",
       "      <th>2</th>\n",
       "      <td>education</td>\n",
       "      <td>-0.001913</td>\n",
       "      <td>0.900810</td>\n",
       "    </tr>\n",
       "  </tbody>\n",
       "</table>\n",
       "</div>"
      ],
      "text/plain": [
       "   predictor      coef    pvalue\n",
       "0  intercept  0.444735  0.000000\n",
       "1     gender -0.022575  0.385639\n",
       "2  education -0.001913  0.900810"
      ]
     },
     "execution_count": 351,
     "metadata": {},
     "output_type": "execute_result"
    }
   ],
   "source": [
    "model1.fit(x1, y2)\n",
    "print (model1.score(x1, y2))\n",
    "regression_coef(model1, x1, y2)"
   ]
  },
  {
   "cell_type": "code",
   "execution_count": 352,
   "metadata": {},
   "outputs": [
    {
     "name": "stdout",
     "output_type": "stream",
     "text": [
      "0.009791926350205093\n"
     ]
    },
    {
     "data": {
      "text/html": [
       "<div>\n",
       "<style scoped>\n",
       "    .dataframe tbody tr th:only-of-type {\n",
       "        vertical-align: middle;\n",
       "    }\n",
       "\n",
       "    .dataframe tbody tr th {\n",
       "        vertical-align: top;\n",
       "    }\n",
       "\n",
       "    .dataframe thead th {\n",
       "        text-align: right;\n",
       "    }\n",
       "</style>\n",
       "<table border=\"1\" class=\"dataframe\">\n",
       "  <thead>\n",
       "    <tr style=\"text-align: right;\">\n",
       "      <th></th>\n",
       "      <th>predictor</th>\n",
       "      <th>coef</th>\n",
       "      <th>pvalue</th>\n",
       "    </tr>\n",
       "  </thead>\n",
       "  <tbody>\n",
       "    <tr>\n",
       "      <th>0</th>\n",
       "      <td>intercept</td>\n",
       "      <td>0.423559</td>\n",
       "      <td>0.000000</td>\n",
       "    </tr>\n",
       "    <tr>\n",
       "      <th>1</th>\n",
       "      <td>gender</td>\n",
       "      <td>-0.005075</td>\n",
       "      <td>0.833832</td>\n",
       "    </tr>\n",
       "    <tr>\n",
       "      <th>2</th>\n",
       "      <td>education</td>\n",
       "      <td>-0.054242</td>\n",
       "      <td>0.000150</td>\n",
       "    </tr>\n",
       "  </tbody>\n",
       "</table>\n",
       "</div>"
      ],
      "text/plain": [
       "   predictor      coef    pvalue\n",
       "0  intercept  0.423559  0.000000\n",
       "1     gender -0.005075  0.833832\n",
       "2  education -0.054242  0.000150"
      ]
     },
     "execution_count": 352,
     "metadata": {},
     "output_type": "execute_result"
    }
   ],
   "source": [
    "model1.fit(x1, y3)\n",
    "print (model1.score(x1, y3))\n",
    "regression_coef(model1, x1, y3)"
   ]
  },
  {
   "cell_type": "code",
   "execution_count": 355,
   "metadata": {},
   "outputs": [
    {
     "name": "stdout",
     "output_type": "stream",
     "text": [
      "0.0006118881528304199\n"
     ]
    },
    {
     "data": {
      "text/html": [
       "<div>\n",
       "<style scoped>\n",
       "    .dataframe tbody tr th:only-of-type {\n",
       "        vertical-align: middle;\n",
       "    }\n",
       "\n",
       "    .dataframe tbody tr th {\n",
       "        vertical-align: top;\n",
       "    }\n",
       "\n",
       "    .dataframe thead th {\n",
       "        text-align: right;\n",
       "    }\n",
       "</style>\n",
       "<table border=\"1\" class=\"dataframe\">\n",
       "  <thead>\n",
       "    <tr style=\"text-align: right;\">\n",
       "      <th></th>\n",
       "      <th>predictor</th>\n",
       "      <th>coef</th>\n",
       "      <th>pvalue</th>\n",
       "    </tr>\n",
       "  </thead>\n",
       "  <tbody>\n",
       "    <tr>\n",
       "      <th>0</th>\n",
       "      <td>intercept</td>\n",
       "      <td>0.366157</td>\n",
       "      <td>2.314746e-07</td>\n",
       "    </tr>\n",
       "    <tr>\n",
       "      <th>1</th>\n",
       "      <td>gender</td>\n",
       "      <td>-0.013983</td>\n",
       "      <td>5.649485e-01</td>\n",
       "    </tr>\n",
       "    <tr>\n",
       "      <th>2</th>\n",
       "      <td>age</td>\n",
       "      <td>-0.002374</td>\n",
       "      <td>4.861804e-01</td>\n",
       "    </tr>\n",
       "  </tbody>\n",
       "</table>\n",
       "</div>"
      ],
      "text/plain": [
       "   predictor      coef        pvalue\n",
       "0  intercept  0.366157  2.314746e-07\n",
       "1     gender -0.013983  5.649485e-01\n",
       "2        age -0.002374  4.861804e-01"
      ]
     },
     "execution_count": 355,
     "metadata": {},
     "output_type": "execute_result"
    }
   ],
   "source": [
    "model1.fit(x2, y3)\n",
    "print (model1.score(x2, y3))\n",
    "regression_coef(model1, x2, y3)"
   ]
  },
  {
   "cell_type": "code",
   "execution_count": 356,
   "metadata": {},
   "outputs": [
    {
     "name": "stdout",
     "output_type": "stream",
     "text": [
      "0.0008707615113807688\n"
     ]
    },
    {
     "data": {
      "text/html": [
       "<div>\n",
       "<style scoped>\n",
       "    .dataframe tbody tr th:only-of-type {\n",
       "        vertical-align: middle;\n",
       "    }\n",
       "\n",
       "    .dataframe tbody tr th {\n",
       "        vertical-align: top;\n",
       "    }\n",
       "\n",
       "    .dataframe thead th {\n",
       "        text-align: right;\n",
       "    }\n",
       "</style>\n",
       "<table border=\"1\" class=\"dataframe\">\n",
       "  <thead>\n",
       "    <tr style=\"text-align: right;\">\n",
       "      <th></th>\n",
       "      <th>predictor</th>\n",
       "      <th>coef</th>\n",
       "      <th>pvalue</th>\n",
       "    </tr>\n",
       "  </thead>\n",
       "  <tbody>\n",
       "    <tr>\n",
       "      <th>0</th>\n",
       "      <td>intercept</td>\n",
       "      <td>0.485950</td>\n",
       "      <td>1.581688e-10</td>\n",
       "    </tr>\n",
       "    <tr>\n",
       "      <th>1</th>\n",
       "      <td>gender</td>\n",
       "      <td>-0.020778</td>\n",
       "      <td>4.243960e-01</td>\n",
       "    </tr>\n",
       "    <tr>\n",
       "      <th>2</th>\n",
       "      <td>age</td>\n",
       "      <td>-0.002636</td>\n",
       "      <td>4.699693e-01</td>\n",
       "    </tr>\n",
       "  </tbody>\n",
       "</table>\n",
       "</div>"
      ],
      "text/plain": [
       "   predictor      coef        pvalue\n",
       "0  intercept  0.485950  1.581688e-10\n",
       "1     gender -0.020778  4.243960e-01\n",
       "2        age -0.002636  4.699693e-01"
      ]
     },
     "execution_count": 356,
     "metadata": {},
     "output_type": "execute_result"
    }
   ],
   "source": [
    "model1.fit(x2, y2)\n",
    "print (model1.score(x2, y2))\n",
    "regression_coef(model1, x2, y2)"
   ]
  },
  {
   "cell_type": "code",
   "execution_count": 358,
   "metadata": {},
   "outputs": [
    {
     "name": "stdout",
     "output_type": "stream",
     "text": [
      "0.0006118881528304199\n"
     ]
    },
    {
     "data": {
      "text/html": [
       "<div>\n",
       "<style scoped>\n",
       "    .dataframe tbody tr th:only-of-type {\n",
       "        vertical-align: middle;\n",
       "    }\n",
       "\n",
       "    .dataframe tbody tr th {\n",
       "        vertical-align: top;\n",
       "    }\n",
       "\n",
       "    .dataframe thead th {\n",
       "        text-align: right;\n",
       "    }\n",
       "</style>\n",
       "<table border=\"1\" class=\"dataframe\">\n",
       "  <thead>\n",
       "    <tr style=\"text-align: right;\">\n",
       "      <th></th>\n",
       "      <th>predictor</th>\n",
       "      <th>coef</th>\n",
       "      <th>pvalue</th>\n",
       "    </tr>\n",
       "  </thead>\n",
       "  <tbody>\n",
       "    <tr>\n",
       "      <th>0</th>\n",
       "      <td>intercept</td>\n",
       "      <td>0.366157</td>\n",
       "      <td>2.314746e-07</td>\n",
       "    </tr>\n",
       "    <tr>\n",
       "      <th>1</th>\n",
       "      <td>gender</td>\n",
       "      <td>-0.013983</td>\n",
       "      <td>5.649485e-01</td>\n",
       "    </tr>\n",
       "    <tr>\n",
       "      <th>2</th>\n",
       "      <td>age</td>\n",
       "      <td>-0.002374</td>\n",
       "      <td>4.861804e-01</td>\n",
       "    </tr>\n",
       "  </tbody>\n",
       "</table>\n",
       "</div>"
      ],
      "text/plain": [
       "   predictor      coef        pvalue\n",
       "0  intercept  0.366157  2.314746e-07\n",
       "1     gender -0.013983  5.649485e-01\n",
       "2        age -0.002374  4.861804e-01"
      ]
     },
     "execution_count": 358,
     "metadata": {},
     "output_type": "execute_result"
    }
   ],
   "source": [
    "model1.fit(x2, y3)\n",
    "print (model1.score(x2, y3))\n",
    "regression_coef(model1, x2, y3)"
   ]
  },
  {
   "cell_type": "code",
   "execution_count": 359,
   "metadata": {},
   "outputs": [],
   "source": [
    "from scipy import stats\n",
    "import matplotlib.pyplot as plt"
   ]
  },
  {
   "cell_type": "code",
   "execution_count": 360,
   "metadata": {},
   "outputs": [
    {
     "ename": "ValueError",
     "evalue": "Data must be positive.",
     "output_type": "error",
     "traceback": [
      "\u001b[1;31m---------------------------------------------------------------------------\u001b[0m",
      "\u001b[1;31mValueError\u001b[0m                                Traceback (most recent call last)",
      "\u001b[1;32m<ipython-input-360-496708c12c03>\u001b[0m in \u001b[0;36m<module>\u001b[1;34m\u001b[0m\n\u001b[1;32m----> 1\u001b[1;33m \u001b[0mstats\u001b[0m\u001b[1;33m.\u001b[0m\u001b[0mboxcox\u001b[0m\u001b[1;33m(\u001b[0m\u001b[0mdata\u001b[0m\u001b[1;33m)\u001b[0m\u001b[1;33m\u001b[0m\u001b[1;33m\u001b[0m\u001b[0m\n\u001b[0m",
      "\u001b[1;32md:\\anaconda3\\lib\\site-packages\\scipy\\stats\\morestats.py\u001b[0m in \u001b[0;36mboxcox\u001b[1;34m(x, lmbda, alpha)\u001b[0m\n\u001b[0;32m   1030\u001b[0m \u001b[1;33m\u001b[0m\u001b[0m\n\u001b[0;32m   1031\u001b[0m     \u001b[1;32mif\u001b[0m \u001b[0many\u001b[0m\u001b[1;33m(\u001b[0m\u001b[0mx\u001b[0m \u001b[1;33m<=\u001b[0m \u001b[1;36m0\u001b[0m\u001b[1;33m)\u001b[0m\u001b[1;33m:\u001b[0m\u001b[1;33m\u001b[0m\u001b[1;33m\u001b[0m\u001b[0m\n\u001b[1;32m-> 1032\u001b[1;33m         \u001b[1;32mraise\u001b[0m \u001b[0mValueError\u001b[0m\u001b[1;33m(\u001b[0m\u001b[1;34m\"Data must be positive.\"\u001b[0m\u001b[1;33m)\u001b[0m\u001b[1;33m\u001b[0m\u001b[1;33m\u001b[0m\u001b[0m\n\u001b[0m\u001b[0;32m   1033\u001b[0m \u001b[1;33m\u001b[0m\u001b[0m\n\u001b[0;32m   1034\u001b[0m     \u001b[1;32mif\u001b[0m \u001b[0mlmbda\u001b[0m \u001b[1;32mis\u001b[0m \u001b[1;32mnot\u001b[0m \u001b[1;32mNone\u001b[0m\u001b[1;33m:\u001b[0m  \u001b[1;31m# single transformation\u001b[0m\u001b[1;33m\u001b[0m\u001b[1;33m\u001b[0m\u001b[0m\n",
      "\u001b[1;31mValueError\u001b[0m: Data must be positive."
     ]
    }
   ],
   "source": [
    "stats.boxcox(x)"
   ]
  },
  {
   "cell_type": "code",
   "execution_count": 361,
   "metadata": {},
   "outputs": [],
   "source": [
    "from sklearn.preprocessing import PolynomialFeatures\n",
    "poly = PolynomialFeatures(\n",
    "                          # Максимальная степень\n",
    "                          degree=2,\n",
    "                          # Не генерировать свободный член\n",
    "                          include_bias=False)"
   ]
  },
  {
   "cell_type": "code",
   "execution_count": 374,
   "metadata": {},
   "outputs": [
    {
     "data": {
      "text/html": [
       "<div>\n",
       "<style scoped>\n",
       "    .dataframe tbody tr th:only-of-type {\n",
       "        vertical-align: middle;\n",
       "    }\n",
       "\n",
       "    .dataframe tbody tr th {\n",
       "        vertical-align: top;\n",
       "    }\n",
       "\n",
       "    .dataframe thead th {\n",
       "        text-align: right;\n",
       "    }\n",
       "</style>\n",
       "<table border=\"1\" class=\"dataframe\">\n",
       "  <thead>\n",
       "    <tr style=\"text-align: right;\">\n",
       "      <th></th>\n",
       "      <th>age</th>\n",
       "      <th>age^2</th>\n",
       "    </tr>\n",
       "  </thead>\n",
       "  <tbody>\n",
       "    <tr>\n",
       "      <th>0</th>\n",
       "      <td>23.0</td>\n",
       "      <td>529.0</td>\n",
       "    </tr>\n",
       "    <tr>\n",
       "      <th>1</th>\n",
       "      <td>23.0</td>\n",
       "      <td>529.0</td>\n",
       "    </tr>\n",
       "    <tr>\n",
       "      <th>2</th>\n",
       "      <td>18.0</td>\n",
       "      <td>324.0</td>\n",
       "    </tr>\n",
       "    <tr>\n",
       "      <th>3</th>\n",
       "      <td>18.0</td>\n",
       "      <td>324.0</td>\n",
       "    </tr>\n",
       "    <tr>\n",
       "      <th>4</th>\n",
       "      <td>19.0</td>\n",
       "      <td>361.0</td>\n",
       "    </tr>\n",
       "  </tbody>\n",
       "</table>\n",
       "</div>"
      ],
      "text/plain": [
       "    age  age^2\n",
       "0  23.0  529.0\n",
       "1  23.0  529.0\n",
       "2  18.0  324.0\n",
       "3  18.0  324.0\n",
       "4  19.0  361.0"
      ]
     },
     "execution_count": 374,
     "metadata": {},
     "output_type": "execute_result"
    }
   ],
   "source": [
    "y = data['x3']\n",
    "X0 = poly.fit_transform(data[['age']])\n",
    "X0 = pd.DataFrame(X0, columns=['age', 'age^2'])\n",
    "X0.head()"
   ]
  },
  {
   "cell_type": "code",
   "execution_count": 375,
   "metadata": {},
   "outputs": [],
   "source": [
    "X0 = [\n",
    "    # Одна оригинальная переменная weight\n",
    "    X0[['age']],\n",
    "    # Одна переменная weight^2\n",
    "    X0[['age^2']],\n",
    "    # Две переменных weight и weight^2\n",
    "    X0.copy()]\n",
    "models = [LinearRegression() for _ in X0]\n"
   ]
  },
  {
   "cell_type": "code",
   "execution_count": 376,
   "metadata": {},
   "outputs": [
    {
     "name": "stdout",
     "output_type": "stream",
     "text": [
      "0.0003919998588473028\n",
      "3.998363532486948e-06\n",
      "0.03082671032905271\n"
     ]
    }
   ],
   "source": [
    "for X, model in zip(X0, models):\n",
    "    model.fit(X, y)\n",
    "    print (model.score(X, y))"
   ]
  },
  {
   "cell_type": "code",
   "execution_count": 384,
   "metadata": {},
   "outputs": [
    {
     "ename": "TypeError",
     "evalue": "'(0       False\n1       False\n2        True\n3       False\n4        True\n5        True\n6        True\n7       False\n8        True\n9       False\n10       True\n11       True\n12       True\n13       True\n14       True\n15       True\n16       True\n17       True\n18       True\n19      False\n20      False\n21       True\n22       True\n23       True\n24      False\n25      False\n26       True\n27       True\n28       True\n29       True\n        ...  \n1478     True\n1479     True\n1480    False\n1481    False\n1482    False\n1483     True\n1484     True\n1485     True\n1486    False\n1487     True\n1488     True\n1489    False\n1490    False\n1491     True\n1492     True\n1493     True\n1494     True\n1495     True\n1496     True\n1497    False\n1498     True\n1499     True\n1500     True\n1501     True\n1502     True\n1503     True\n1504     True\n1505     True\n1506     True\n1507     True\nName: x1, Length: 1508, dtype: bool, 0)' is an invalid key",
     "output_type": "error",
     "traceback": [
      "\u001b[1;31m---------------------------------------------------------------------------\u001b[0m",
      "\u001b[1;31mTypeError\u001b[0m                                 Traceback (most recent call last)",
      "\u001b[1;32m<ipython-input-384-3b58b384a9d0>\u001b[0m in \u001b[0;36m<module>\u001b[1;34m\u001b[0m\n\u001b[0;32m     15\u001b[0m \u001b[0mplt\u001b[0m\u001b[1;33m.\u001b[0m\u001b[0mcla\u001b[0m\u001b[1;33m(\u001b[0m\u001b[1;33m)\u001b[0m\u001b[1;33m\u001b[0m\u001b[1;33m\u001b[0m\u001b[0m\n\u001b[0;32m     16\u001b[0m \u001b[1;32mfor\u001b[0m \u001b[0mname\u001b[0m\u001b[1;33m,\u001b[0m \u001b[0mlabel\u001b[0m \u001b[1;32min\u001b[0m \u001b[1;33m[\u001b[0m\u001b[1;33m(\u001b[0m\u001b[1;34m'age'\u001b[0m\u001b[1;33m,\u001b[0m \u001b[1;36m0\u001b[0m\u001b[1;33m)\u001b[0m\u001b[1;33m,\u001b[0m \u001b[1;33m(\u001b[0m\u001b[1;34m'gender'\u001b[0m\u001b[1;33m,\u001b[0m \u001b[1;36m1\u001b[0m\u001b[1;33m)\u001b[0m\u001b[1;33m,\u001b[0m \u001b[1;33m(\u001b[0m\u001b[1;34m'education'\u001b[0m\u001b[1;33m,\u001b[0m \u001b[1;36m2\u001b[0m\u001b[1;33m)\u001b[0m\u001b[1;33m]\u001b[0m\u001b[1;33m:\u001b[0m\u001b[1;33m\u001b[0m\u001b[1;33m\u001b[0m\u001b[0m\n\u001b[1;32m---> 17\u001b[1;33m     ax.text3D(X[y == label, 0],\n\u001b[0m\u001b[0;32m     18\u001b[0m               \u001b[0mX\u001b[0m\u001b[1;33m[\u001b[0m\u001b[0my\u001b[0m \u001b[1;33m==\u001b[0m \u001b[0mlabel\u001b[0m\u001b[1;33m,\u001b[0m \u001b[1;36m1\u001b[0m\u001b[1;33m]\u001b[0m\u001b[1;33m.\u001b[0m\u001b[0mmean\u001b[0m\u001b[1;33m(\u001b[0m\u001b[1;33m)\u001b[0m \u001b[1;33m+\u001b[0m \u001b[1;36m1.5\u001b[0m\u001b[1;33m,\u001b[0m\u001b[1;33m\u001b[0m\u001b[1;33m\u001b[0m\u001b[0m\n\u001b[0;32m     19\u001b[0m               \u001b[0mX\u001b[0m\u001b[1;33m[\u001b[0m\u001b[0my\u001b[0m \u001b[1;33m==\u001b[0m \u001b[0mlabel\u001b[0m\u001b[1;33m,\u001b[0m \u001b[1;36m2\u001b[0m\u001b[1;33m]\u001b[0m\u001b[1;33m.\u001b[0m\u001b[0mmean\u001b[0m\u001b[1;33m(\u001b[0m\u001b[1;33m)\u001b[0m\u001b[1;33m,\u001b[0m \u001b[0mname\u001b[0m\u001b[1;33m,\u001b[0m\u001b[1;33m\u001b[0m\u001b[1;33m\u001b[0m\u001b[0m\n",
      "\u001b[1;32md:\\anaconda3\\lib\\site-packages\\pandas\\core\\frame.py\u001b[0m in \u001b[0;36m__getitem__\u001b[1;34m(self, key)\u001b[0m\n\u001b[0;32m   2925\u001b[0m             \u001b[1;32mif\u001b[0m \u001b[0mself\u001b[0m\u001b[1;33m.\u001b[0m\u001b[0mcolumns\u001b[0m\u001b[1;33m.\u001b[0m\u001b[0mnlevels\u001b[0m \u001b[1;33m>\u001b[0m \u001b[1;36m1\u001b[0m\u001b[1;33m:\u001b[0m\u001b[1;33m\u001b[0m\u001b[1;33m\u001b[0m\u001b[0m\n\u001b[0;32m   2926\u001b[0m                 \u001b[1;32mreturn\u001b[0m \u001b[0mself\u001b[0m\u001b[1;33m.\u001b[0m\u001b[0m_getitem_multilevel\u001b[0m\u001b[1;33m(\u001b[0m\u001b[0mkey\u001b[0m\u001b[1;33m)\u001b[0m\u001b[1;33m\u001b[0m\u001b[1;33m\u001b[0m\u001b[0m\n\u001b[1;32m-> 2927\u001b[1;33m             \u001b[0mindexer\u001b[0m \u001b[1;33m=\u001b[0m \u001b[0mself\u001b[0m\u001b[1;33m.\u001b[0m\u001b[0mcolumns\u001b[0m\u001b[1;33m.\u001b[0m\u001b[0mget_loc\u001b[0m\u001b[1;33m(\u001b[0m\u001b[0mkey\u001b[0m\u001b[1;33m)\u001b[0m\u001b[1;33m\u001b[0m\u001b[1;33m\u001b[0m\u001b[0m\n\u001b[0m\u001b[0;32m   2928\u001b[0m             \u001b[1;32mif\u001b[0m \u001b[0mis_integer\u001b[0m\u001b[1;33m(\u001b[0m\u001b[0mindexer\u001b[0m\u001b[1;33m)\u001b[0m\u001b[1;33m:\u001b[0m\u001b[1;33m\u001b[0m\u001b[1;33m\u001b[0m\u001b[0m\n\u001b[0;32m   2929\u001b[0m                 \u001b[0mindexer\u001b[0m \u001b[1;33m=\u001b[0m \u001b[1;33m[\u001b[0m\u001b[0mindexer\u001b[0m\u001b[1;33m]\u001b[0m\u001b[1;33m\u001b[0m\u001b[1;33m\u001b[0m\u001b[0m\n",
      "\u001b[1;32md:\\anaconda3\\lib\\site-packages\\pandas\\core\\indexes\\base.py\u001b[0m in \u001b[0;36mget_loc\u001b[1;34m(self, key, method, tolerance)\u001b[0m\n\u001b[0;32m   2655\u001b[0m                                  'backfill or nearest lookups')\n\u001b[0;32m   2656\u001b[0m             \u001b[1;32mtry\u001b[0m\u001b[1;33m:\u001b[0m\u001b[1;33m\u001b[0m\u001b[1;33m\u001b[0m\u001b[0m\n\u001b[1;32m-> 2657\u001b[1;33m                 \u001b[1;32mreturn\u001b[0m \u001b[0mself\u001b[0m\u001b[1;33m.\u001b[0m\u001b[0m_engine\u001b[0m\u001b[1;33m.\u001b[0m\u001b[0mget_loc\u001b[0m\u001b[1;33m(\u001b[0m\u001b[0mkey\u001b[0m\u001b[1;33m)\u001b[0m\u001b[1;33m\u001b[0m\u001b[1;33m\u001b[0m\u001b[0m\n\u001b[0m\u001b[0;32m   2658\u001b[0m             \u001b[1;32mexcept\u001b[0m \u001b[0mKeyError\u001b[0m\u001b[1;33m:\u001b[0m\u001b[1;33m\u001b[0m\u001b[1;33m\u001b[0m\u001b[0m\n\u001b[0;32m   2659\u001b[0m                 \u001b[1;32mreturn\u001b[0m \u001b[0mself\u001b[0m\u001b[1;33m.\u001b[0m\u001b[0m_engine\u001b[0m\u001b[1;33m.\u001b[0m\u001b[0mget_loc\u001b[0m\u001b[1;33m(\u001b[0m\u001b[0mself\u001b[0m\u001b[1;33m.\u001b[0m\u001b[0m_maybe_cast_indexer\u001b[0m\u001b[1;33m(\u001b[0m\u001b[0mkey\u001b[0m\u001b[1;33m)\u001b[0m\u001b[1;33m)\u001b[0m\u001b[1;33m\u001b[0m\u001b[1;33m\u001b[0m\u001b[0m\n",
      "\u001b[1;32mpandas/_libs/index.pyx\u001b[0m in \u001b[0;36mpandas._libs.index.IndexEngine.get_loc\u001b[1;34m()\u001b[0m\n",
      "\u001b[1;32mpandas/_libs/index.pyx\u001b[0m in \u001b[0;36mpandas._libs.index.IndexEngine.get_loc\u001b[1;34m()\u001b[0m\n",
      "\u001b[1;31mTypeError\u001b[0m: '(0       False\n1       False\n2        True\n3       False\n4        True\n5        True\n6        True\n7       False\n8        True\n9       False\n10       True\n11       True\n12       True\n13       True\n14       True\n15       True\n16       True\n17       True\n18       True\n19      False\n20      False\n21       True\n22       True\n23       True\n24      False\n25      False\n26       True\n27       True\n28       True\n29       True\n        ...  \n1478     True\n1479     True\n1480    False\n1481    False\n1482    False\n1483     True\n1484     True\n1485     True\n1486    False\n1487     True\n1488     True\n1489    False\n1490    False\n1491     True\n1492     True\n1493     True\n1494     True\n1495     True\n1496     True\n1497    False\n1498     True\n1499     True\n1500     True\n1501     True\n1502     True\n1503     True\n1504     True\n1505     True\n1506     True\n1507     True\nName: x1, Length: 1508, dtype: bool, 0)' is an invalid key"
     ]
    },
    {
     "data": {
      "image/png": "[encoded data removed]",
      "text/plain": [
       "<Figure size 432x360 with 1 Axes>"
      ]
     },
     "metadata": {
      "needs_background": "light"
     },
     "output_type": "display_data"
    }
   ],
   "source": [
    "import numpy as np\n",
    "import matplotlib.pyplot as plt\n",
    "import seaborn as sns; sns.set(style='white')\n",
    "%matplotlib inline\n",
    "from sklearn import decomposition\n",
    "from sklearn import datasets\n",
    "from mpl_toolkits.mplot3d import Axes3D\n",
    "\n",
    "fig = plt.figure(1, figsize=(6, 5))\n",
    "plt.clf()\n",
    "ax = Axes3D(fig, rect=[0, 0, .95, 1], elev=48, azim=134)\n",
    "X=data[['gender', 'age', 'education']]\n",
    "y=data['x1']\n",
    "\n",
    "plt.cla()\n",
    "for name, label in [('age', 0), ('gender', 1), ('education', 2)]:\n",
    "    ax.text3D(X[y == label, 0].mean(),\n",
    "              X[y == label, 1].mean() + 1.5,\n",
    "              X[y == label, 2].mean(), name,\n",
    "              horizontalalignment='center',\n",
    "              bbox=dict(alpha=.5, edgecolor='w', facecolor='w'))\n",
    "# Поменяем порядок цветов меток, чтобы они соответствовали правильному\n",
    "y_clr = np.choose(y, [1, 2, 0]).astype(np.float)\n",
    "ax.scatter(X[:, 0], X[:, 1], X[:, 2], c=y_clr, cmap=plt.cm.spectral)\n",
    "\n",
    "ax.w_xaxis.set_ticklabels([])\n",
    "ax.w_yaxis.set_ticklabels([])\n",
    "ax.w_zaxis.set_ticklabels([])"
   ]
  },
  {
   "cell_type": "code",
   "execution_count": 386,
   "metadata": {},
   "outputs": [],
   "source": [
    "from sklearn.linear_model import LogisticRegression\n",
    "model = LogisticRegression(\n",
    "    # метод для поиска решения. Для небольших датасетов лучше подходит liblinear, sag и saga -- для больших.\n",
    "    # Варианты: newton-cg, lbfgs, liblinear, sag, saga\n",
    "    solver='liblinear',\n",
    "    # норма для регуляризации. Варианты: l2, l1.\n",
    "    penalty='l2',\n",
    "    # параметр регуляризации. Чем меньше, тем сильнее регуляризация. Положительный.\n",
    "    C=1,\n",
    "    # параметр для остановки поиска решения.\n",
    "    tol=1e-4,\n",
    "    # Так как распознается 2 класса.\n",
    "    multi_class='ovr'\n",
    "    )"
   ]
  },
  {
   "cell_type": "code",
   "execution_count": 387,
   "metadata": {},
   "outputs": [
    {
     "data": {
      "text/plain": [
       "LogisticRegression(C=1, class_weight=None, dual=False, fit_intercept=True,\n",
       "          intercept_scaling=1, max_iter=100, multi_class='ovr',\n",
       "          n_jobs=None, penalty='l2', random_state=None, solver='liblinear',\n",
       "          tol=0.0001, verbose=0, warm_start=False)"
      ]
     },
     "execution_count": 387,
     "metadata": {},
     "output_type": "execute_result"
    }
   ],
   "source": [
    "model.fit(X, y)"
   ]
  },
  {
   "cell_type": "code",
   "execution_count": 388,
   "metadata": {},
   "outputs": [
    {
     "data": {
      "text/plain": [
       "array([0, 0, 0, ..., 0, 0, 0], dtype=int64)"
      ]
     },
     "execution_count": 388,
     "metadata": {},
     "output_type": "execute_result"
    }
   ],
   "source": [
    "preds = model.predict(X)\n",
    "preds"
   ]
  },
  {
   "cell_type": "code",
   "execution_count": 389,
   "metadata": {},
   "outputs": [
    {
     "data": {
      "text/html": [
       "<div>\n",
       "<style scoped>\n",
       "    .dataframe tbody tr th:only-of-type {\n",
       "        vertical-align: middle;\n",
       "    }\n",
       "\n",
       "    .dataframe tbody tr th {\n",
       "        vertical-align: top;\n",
       "    }\n",
       "\n",
       "    .dataframe thead th {\n",
       "        text-align: right;\n",
       "    }\n",
       "</style>\n",
       "<table border=\"1\" class=\"dataframe\">\n",
       "  <thead>\n",
       "    <tr style=\"text-align: right;\">\n",
       "      <th></th>\n",
       "      <th>0</th>\n",
       "      <th>1</th>\n",
       "    </tr>\n",
       "  </thead>\n",
       "  <tbody>\n",
       "    <tr>\n",
       "      <th>0</th>\n",
       "      <td>1085</td>\n",
       "      <td>0</td>\n",
       "    </tr>\n",
       "    <tr>\n",
       "      <th>1</th>\n",
       "      <td>423</td>\n",
       "      <td>0</td>\n",
       "    </tr>\n",
       "  </tbody>\n",
       "</table>\n",
       "</div>"
      ],
      "text/plain": [
       "      0  1\n",
       "0  1085  0\n",
       "1   423  0"
      ]
     },
     "execution_count": 389,
     "metadata": {},
     "output_type": "execute_result"
    }
   ],
   "source": [
    "from sklearn import metrics\n",
    "conf_mat = metrics.confusion_matrix(y, preds)\n",
    "conf_mat = pd.DataFrame(conf_mat, index=model.classes_, columns=model.classes_)\n",
    "conf_mat"
   ]
  },
  {
   "cell_type": "code",
   "execution_count": 390,
   "metadata": {},
   "outputs": [],
   "source": [
    "pred_prob = model.predict_proba(X)"
   ]
  },
  {
   "cell_type": "code",
   "execution_count": 391,
   "metadata": {},
   "outputs": [],
   "source": [
    "preds = pred_prob[:,1]\n",
    "fpr, tpr, threshold = metrics.roc_curve(y, preds)\n",
    "roc_auc = metrics.auc(fpr, tpr)\n"
   ]
  },
  {
   "cell_type": "code",
   "execution_count": 392,
   "metadata": {},
   "outputs": [
    {
     "data": {
      "image/png": "[encoded data removed]",
      "text/plain": [
       "<Figure size 432x288 with 1 Axes>"
      ]
     },
     "metadata": {
      "needs_background": "light"
     },
     "output_type": "display_data"
    }
   ],
   "source": [
    "\n",
    "# method I: plt\n",
    "import matplotlib.pyplot as plt\n",
    "plt.title('Receiver Operating Characteristic')\n",
    "plt.plot(fpr, tpr, 'b', label = 'AUC = %0.2f' % roc_auc)\n",
    "plt.legend(loc = 'lower right')\n",
    "plt.plot([0, 1], [0, 1],'r--')\n",
    "plt.xlim([0, 1])\n",
    "plt.ylim([0, 1])\n",
    "plt.ylabel('True Positive Rate')\n",
    "plt.xlabel('False Positive Rate')\n",
    "plt.show()\n",
    "\n"
   ]
  },
  {
   "cell_type": "code",
   "execution_count": 396,
   "metadata": {},
   "outputs": [],
   "source": [
    "# method II: ggplot\n",
    "#from ggplot import *\n",
    "df = pd.DataFrame(dict(fpr = fpr, tpr = tpr))\n",
    "#ggplot(df, aes(x = 'fpr', y = 'tpr')) + geom_line() + geom_abline(linetype = 'dashed')"
   ]
  },
  {
   "cell_type": "code",
   "execution_count": 399,
   "metadata": {},
   "outputs": [
    {
     "ename": "AttributeError",
     "evalue": "'numpy.ndarray' object has no attribute 'predict'",
     "output_type": "error",
     "traceback": [
      "\u001b[1;31m---------------------------------------------------------------------------\u001b[0m",
      "\u001b[1;31mAttributeError\u001b[0m                            Traceback (most recent call last)",
      "\u001b[1;32m<ipython-input-399-185135ce8128>\u001b[0m in \u001b[0;36m<module>\u001b[1;34m\u001b[0m\n\u001b[1;32m----> 1\u001b[1;33m \u001b[0mzzz\u001b[0m \u001b[1;33m=\u001b[0m \u001b[0mpd\u001b[0m\u001b[1;33m.\u001b[0m\u001b[0mDataFrame\u001b[0m\u001b[1;33m(\u001b[0m\u001b[0mfpr\u001b[0m\u001b[1;33m.\u001b[0m\u001b[0mpredict\u001b[0m\u001b[1;33m(\u001b[0m\u001b[0mX\u001b[0m\u001b[1;33m)\u001b[0m\u001b[1;33m)\u001b[0m\u001b[1;33m\u001b[0m\u001b[1;33m\u001b[0m\u001b[0m\n\u001b[0m\u001b[0;32m      2\u001b[0m \u001b[1;33m\u001b[0m\u001b[0m\n\u001b[0;32m      3\u001b[0m \u001b[1;31m#  zzz.head()\u001b[0m\u001b[1;33m\u001b[0m\u001b[1;33m\u001b[0m\u001b[1;33m\u001b[0m\u001b[0m\n\u001b[0;32m      4\u001b[0m \u001b[1;33m\u001b[0m\u001b[0m\n\u001b[0;32m      5\u001b[0m \u001b[0mzzz\u001b[0m\u001b[1;33m\u001b[0m\u001b[1;33m\u001b[0m\u001b[0m\n",
      "\u001b[1;31mAttributeError\u001b[0m: 'numpy.ndarray' object has no attribute 'predict'"
     ]
    }
   ],
   "source": [
    "zzz = pd.DataFrame(fpe.predict(X))\n",
    "\n",
    "#  zzz.head()\n",
    "\n",
    "zzz"
   ]
  },
  {
   "cell_type": "code",
   "execution_count": null,
   "metadata": {},
   "outputs": [],
   "source": []
  }
 ],
 "metadata": {
  "kernelspec": {
   "display_name": "Python 3",
   "language": "python",
   "name": "python3"
  },
  "language_info": {
   "codemirror_mode": {
    "name": "ipython",
    "version": 3
   },
   "file_extension": ".py",
   "mimetype": "text/x-python",
   "name": "python",
   "nbconvert_exporter": "python",
   "pygments_lexer": "ipython3",
   "version": "3.7.6"
  }
 },
 "nbformat": 4,
 "nbformat_minor": 2
}
